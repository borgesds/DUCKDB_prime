{
 "cells": [
  {
   "cell_type": "code",
   "execution_count": 1,
   "id": "28fc1225-cff0-480b-a44b-0a8806f0caf9",
   "metadata": {},
   "outputs": [],
   "source": [
    "import yaml\n",
    "import duckdb\n",
    "import psycopg2\n",
    "import pandas as pd"
   ]
  },
  {
   "cell_type": "markdown",
   "id": "8ca4ad58-8d90-493e-a9c8-1d7fe755a48b",
   "metadata": {},
   "source": [
    "### Carregar config"
   ]
  },
  {
   "cell_type": "code",
   "execution_count": 2,
   "id": "3ee54c6a-59b0-4a60-9eba-dd7ca9bab922",
   "metadata": {},
   "outputs": [],
   "source": [
    "def load_config(config_path=\"config.yaml\"):\n",
    "    with open(config_path, \"r\") as file:\n",
    "        config = yaml.safe_load(file)\n",
    "    return config"
   ]
  },
  {
   "cell_type": "markdown",
   "id": "b307af94-0332-4a6d-ac16-9a1d8427ee52",
   "metadata": {},
   "source": [
    "### Realizar Consulta"
   ]
  },
  {
   "cell_type": "code",
   "execution_count": 3,
   "id": "33d3f8ab-b549-444d-97a2-52568d3be387",
   "metadata": {},
   "outputs": [],
   "source": [
    "def query_postgres(config, query):\n",
    "    conn = psycopg2.connect(\n",
    "        host=config['database']['host'],\n",
    "        port=config['database']['port'],\n",
    "        user=config['database']['user'],\n",
    "        password=config['database']['password'],\n",
    "        dbname=config['database']['dbname']\n",
    "    )\n",
    "    cur = conn.cursor()\n",
    "    cur.execute(query)\n",
    "    \n",
    "    data = cur.fetchall()\n",
    "    colnames = [desc[0] for desc in cur.description]\n",
    "    \n",
    "    cur.close()\n",
    "    conn.close()\n",
    "    \n",
    "    # Converter para DataFrame\n",
    "    df = pd.DataFrame(data, columns=colnames)\n",
    "    return df"
   ]
  },
  {
   "cell_type": "markdown",
   "id": "05f65939-80f7-41b7-85e9-6cb560cd736d",
   "metadata": {},
   "source": [
    "### Persistir dados da Consulta"
   ]
  },
  {
   "cell_type": "code",
   "execution_count": 4,
   "id": "fbee9f2c-de14-49cd-b145-413d2e7236c8",
   "metadata": {},
   "outputs": [],
   "source": [
    "def save_to_duckdb(duckdb_conn, df, table_name):\n",
    "    duckdb_conn.register('df_view', df)\n",
    "    duckdb_conn.execute(f\"CREATE TABLE {table_name} AS SELECT * FROM df_view\")"
   ]
  },
  {
   "cell_type": "markdown",
   "id": "5cdf3c06-8127-44e3-88fe-d5b11181b565",
   "metadata": {},
   "source": [
    "### Executar"
   ]
  },
  {
   "cell_type": "code",
   "execution_count": 5,
   "id": "8774cb30-fcdc-44ba-90dc-492e4fc7530e",
   "metadata": {},
   "outputs": [
    {
     "name": "stdout",
     "output_type": "stream",
     "text": [
      "Tabela PedidoCredito carregada com sucesso.\n",
      "Tabela ParcelasCredito carregada com sucesso.\n",
      "Tabela ProdutosFinanciados carregada com sucesso.\n"
     ]
    }
   ],
   "source": [
    "config = load_config()\n",
    "    \n",
    "duckdb_conn = duckdb.connect(\"credito.duckdb\")\n",
    "\n",
    "queries = {\n",
    "    'PedidoCredito': \"SELECT * FROM public.PedidoCredito;\",\n",
    "    'ParcelasCredito': \"SELECT * FROM public.ParcelasCredito;\",\n",
    "    'ProdutosFinanciados': \"SELECT * FROM public.ProdutosFinanciados;\"\n",
    "}\n",
    "\n",
    "for table_name, query in queries.items():\n",
    "    try:\n",
    "        df = query_postgres(config, query)\n",
    "        save_to_duckdb(duckdb_conn, df, table_name)\n",
    "        print(f\"Tabela {table_name} carregada com sucesso.\")\n",
    "    except Exception as e:\n",
    "        print(f\"Erro ao carregar a tabela {table_name}: {e}\")\n",
    "\n",
    "duckdb_conn.close()"
   ]
  },
  {
   "cell_type": "markdown",
   "id": "4392fb4f-e8dc-4fcf-a76d-087e300e8bac",
   "metadata": {},
   "source": [
    "### Testar Persistência"
   ]
  },
  {
   "cell_type": "code",
   "execution_count": 9,
   "id": "0185d205-ac7d-4539-857a-999ff0aada72",
   "metadata": {},
   "outputs": [
    {
     "name": "stdout",
     "output_type": "stream",
     "text": [
      "   produtoid   nomecomercial  precotabela\n",
      "0          1    AgileXplorer     250000.0\n",
      "1          2    VoyageRoamer     350000.0\n",
      "2          3     EcoPrestige     500000.0\n",
      "3          4      WorkMaster     280000.0\n",
      "4          5      DoubleDuty     320000.0\n",
      "5          6       SpeedFury     800000.0\n",
      "6          7  TrailConqueror     400000.0\n",
      "7          8   ElegantCruise     300000.0\n"
     ]
    }
   ],
   "source": [
    "duckdb_conn = duckdb.connect(\"credito.duckdb\")\n",
    "\n",
    "df = duckdb_conn.execute(f\"SELECT * FROM credito.ProdutosFinanciados\").fetchdf()\n",
    "duckdb_conn.close()\n",
    "print(df)"
   ]
  },
  {
   "cell_type": "code",
   "execution_count": 10,
   "id": "dabb33cf-83dc-491f-bcd4-c82e23f7a168",
   "metadata": {},
   "outputs": [
    {
     "name": "stdout",
     "output_type": "stream",
     "text": [
      "      solicitacaoid  numeroparcela  valorparcela datavencimento datapagamento  \\\n",
      "0              1160              1       3636.42     2023-08-08           NaT   \n",
      "1              1160              2       3636.42     2023-09-07    2023-09-07   \n",
      "2              1160              3       3636.42     2023-10-07    2023-10-07   \n",
      "3              1160              4       3636.42     2023-11-06    2023-11-06   \n",
      "4              1160              5       3636.42     2023-12-06    2023-12-06   \n",
      "...             ...            ...           ...            ...           ...   \n",
      "3183           2102              1      20833.33     2023-08-02           NaT   \n",
      "3184           2401              1      20833.33     2023-08-02           NaT   \n",
      "3185           2935              1      20833.33     2023-08-02    2023-08-02   \n",
      "3186           2313              1      20833.33     2023-08-02    2023-08-02   \n",
      "3187           1399              1      20833.33     2023-08-02    2023-08-02   \n",
      "\n",
      "       status  \n",
      "0     Vencido  \n",
      "1        Pago  \n",
      "2        Pago  \n",
      "3        Pago  \n",
      "4        Pago  \n",
      "...       ...  \n",
      "3183  Vencido  \n",
      "3184  Vencido  \n",
      "3185     Pago  \n",
      "3186     Pago  \n",
      "3187     Pago  \n",
      "\n",
      "[3188 rows x 6 columns]\n"
     ]
    }
   ],
   "source": [
    "duckdb_conn = duckdb.connect(\"credito.duckdb\")\n",
    "\n",
    "df = duckdb_conn.execute(f\"SELECT * FROM credito.ParcelasCredito\").fetchdf()\n",
    "duckdb_conn.close()\n",
    "print(df)"
   ]
  },
  {
   "cell_type": "code",
   "execution_count": 11,
   "id": "856a1c9a",
   "metadata": {},
   "outputs": [
    {
     "name": "stdout",
     "output_type": "stream",
     "text": [
      "   produtoid   nomecomercial  precotabela\n",
      "0          1    AgileXplorer     250000.0\n",
      "1          2    VoyageRoamer     350000.0\n",
      "2          3     EcoPrestige     500000.0\n",
      "3          4      WorkMaster     280000.0\n",
      "4          5      DoubleDuty     320000.0\n",
      "5          6       SpeedFury     800000.0\n",
      "6          7  TrailConqueror     400000.0\n",
      "7          8   ElegantCruise     300000.0\n"
     ]
    }
   ],
   "source": [
    "duckdb_conn = duckdb.connect(\"credito.duckdb\")\n",
    "\n",
    "df = duckdb_conn.execute(f\"SELECT * FROM credito.ProdutosFinanciados\").fetchdf()\n",
    "duckdb_conn.close()\n",
    "print(df)"
   ]
  }
 ],
 "metadata": {
  "kernelspec": {
   "display_name": "venv",
   "language": "python",
   "name": "python3"
  },
  "language_info": {
   "codemirror_mode": {
    "name": "ipython",
    "version": 3
   },
   "file_extension": ".py",
   "mimetype": "text/x-python",
   "name": "python",
   "nbconvert_exporter": "python",
   "pygments_lexer": "ipython3",
   "version": "3.11.10"
  }
 },
 "nbformat": 4,
 "nbformat_minor": 5
}
