{
 "cells": [
  {
   "cell_type": "code",
   "execution_count": 1,
   "metadata": {},
   "outputs": [],
   "source": [
    "import duckdb\n",
    "import pandas as pd"
   ]
  },
  {
   "cell_type": "code",
   "execution_count": 2,
   "metadata": {},
   "outputs": [],
   "source": [
    "# DataFrame do Pandas\n",
    "df = pd.DataFrame({\n",
    "    'user_id': [1, 2, 3, 4, 5],\n",
    "    'name': ['John Doe', 'Jane Smith', 'Alice Johnson', 'Chris Evans', 'Emily Davis'],\n",
    "    'age': [28, 34, 23, 45, 30],\n",
    "    'purchase_amount': [250.75, 300.00, 120.50, 450.00, 80.00],\n",
    "    'purchase_date': ['2024-08-01', '2024-08-02', '2024-08-03', '2024-08-04', '2024-08-05']\n",
    "})"
   ]
  },
  {
   "cell_type": "code",
   "execution_count": 3,
   "metadata": {},
   "outputs": [],
   "source": [
    "# Persistência no disco\n",
    "con = duckdb.connect(database='db.duckdb')"
   ]
  },
  {
   "cell_type": "code",
   "execution_count": 4,
   "metadata": {},
   "outputs": [
    {
     "data": {
      "text/plain": [
       "<duckdb.duckdb.DuckDBPyConnection at 0x7fcda807d4f0>"
      ]
     },
     "execution_count": 4,
     "metadata": {},
     "output_type": "execute_result"
    }
   ],
   "source": [
    "# Criar uma tabela\n",
    "con.register('my_df', df)\n",
    "con.execute(\"CREATE TABLE clientes AS SELECT * FROM my_df\")"
   ]
  },
  {
   "cell_type": "code",
   "execution_count": 5,
   "metadata": {},
   "outputs": [
    {
     "name": "stdout",
     "output_type": "stream",
     "text": [
      "Resultados das consultas iniciais:\n",
      "┌─────────┬───────────────┬─────────────────┐\n",
      "│ user_id │     name      │ purchase_amount │\n",
      "│  int64  │    varchar    │     double      │\n",
      "├─────────┼───────────────┼─────────────────┤\n",
      "│       1 │ John Doe      │          250.75 │\n",
      "│       2 │ Jane Smith    │           300.0 │\n",
      "│       3 │ Alice Johnson │           120.5 │\n",
      "│       4 │ Chris Evans   │           450.0 │\n",
      "└─────────┴───────────────┴─────────────────┘\n",
      "\n"
     ]
    }
   ],
   "source": [
    "# Consultas SQL \n",
    "result_df = con.sql(\"SELECT user_id, name, purchase_amount \\\n",
    "            FROM clientes WHERE purchase_amount > 100\")\n",
    "print(\"Resultados das consultas iniciais:\")\n",
    "print(result_df)"
   ]
  },
  {
   "cell_type": "code",
   "execution_count": 6,
   "metadata": {},
   "outputs": [],
   "source": [
    "# Fechar a conexão\n",
    "con.close()"
   ]
  },
  {
   "cell_type": "markdown",
   "metadata": {},
   "source": [
    "### Testar dados do arquivo"
   ]
  },
  {
   "cell_type": "code",
   "execution_count": 7,
   "metadata": {},
   "outputs": [],
   "source": [
    "# Reabrir a conexão com banco de disco\n",
    "con = duckdb.connect(database='db.duckdb')"
   ]
  },
  {
   "cell_type": "code",
   "execution_count": 8,
   "metadata": {},
   "outputs": [
    {
     "name": "stdout",
     "output_type": "stream",
     "text": [
      "\n",
      "Dados carregados do disco:\n",
      "┌─────────┬───────────────┬───────┬─────────────────┬───────────────┐\n",
      "│ user_id │     name      │  age  │ purchase_amount │ purchase_date │\n",
      "│  int64  │    varchar    │ int64 │     double      │    varchar    │\n",
      "├─────────┼───────────────┼───────┼─────────────────┼───────────────┤\n",
      "│       1 │ John Doe      │    28 │          250.75 │ 2024-08-01    │\n",
      "│       2 │ Jane Smith    │    34 │           300.0 │ 2024-08-02    │\n",
      "│       3 │ Alice Johnson │    23 │           120.5 │ 2024-08-03    │\n",
      "│       4 │ Chris Evans   │    45 │           450.0 │ 2024-08-04    │\n",
      "│       5 │ Emily Davis   │    30 │            80.0 │ 2024-08-05    │\n",
      "└─────────┴───────────────┴───────┴─────────────────┴───────────────┘\n",
      "\n"
     ]
    }
   ],
   "source": [
    "loaded_df = con.sql(\"SELECT * FROM clientes\")\n",
    "print(\"\\nDados carregados do disco:\")\n",
    "print(loaded_df)"
   ]
  },
  {
   "cell_type": "markdown",
   "metadata": {},
   "source": [
    "### Atualização"
   ]
  },
  {
   "cell_type": "code",
   "execution_count": 9,
   "metadata": {},
   "outputs": [
    {
     "data": {
      "text/plain": [
       "<duckdb.duckdb.DuckDBPyConnection at 0x7fcda831b170>"
      ]
     },
     "execution_count": 9,
     "metadata": {},
     "output_type": "execute_result"
    }
   ],
   "source": [
    "con.execute(\"UPDATE clientes SET purchase_amount = purchase_amount * 1.10\")"
   ]
  },
  {
   "cell_type": "code",
   "execution_count": 10,
   "metadata": {},
   "outputs": [
    {
     "name": "stdout",
     "output_type": "stream",
     "text": [
      "\n",
      "Dados após as alterações:\n",
      "┌─────────┬───────────────┬───────┬────────────────────┬───────────────┐\n",
      "│ user_id │     name      │  age  │  purchase_amount   │ purchase_date │\n",
      "│  int64  │    varchar    │ int64 │       double       │    varchar    │\n",
      "├─────────┼───────────────┼───────┼────────────────────┼───────────────┤\n",
      "│       1 │ John Doe      │    28 │ 275.82500000000005 │ 2024-08-01    │\n",
      "│       2 │ Jane Smith    │    34 │              330.0 │ 2024-08-02    │\n",
      "│       3 │ Alice Johnson │    23 │             132.55 │ 2024-08-03    │\n",
      "│       4 │ Chris Evans   │    45 │ 495.00000000000006 │ 2024-08-04    │\n",
      "│       5 │ Emily Davis   │    30 │               88.0 │ 2024-08-05    │\n",
      "└─────────┴───────────────┴───────┴────────────────────┴───────────────┘\n",
      "\n"
     ]
    }
   ],
   "source": [
    "updated_df = con.sql(\"SELECT * FROM clientes\")\n",
    "print(\"\\nDados após as alterações:\")\n",
    "print(updated_df)"
   ]
  },
  {
   "cell_type": "code",
   "execution_count": 11,
   "metadata": {},
   "outputs": [],
   "source": [
    "con.close()"
   ]
  },
  {
   "cell_type": "code",
   "execution_count": null,
   "metadata": {},
   "outputs": [],
   "source": []
  },
  {
   "cell_type": "code",
   "execution_count": null,
   "metadata": {},
   "outputs": [],
   "source": []
  },
  {
   "cell_type": "code",
   "execution_count": null,
   "metadata": {},
   "outputs": [],
   "source": []
  },
  {
   "cell_type": "code",
   "execution_count": null,
   "metadata": {},
   "outputs": [],
   "source": []
  }
 ],
 "metadata": {
  "kernelspec": {
   "display_name": "venv",
   "language": "python",
   "name": "python3"
  },
  "language_info": {
   "codemirror_mode": {
    "name": "ipython",
    "version": 3
   },
   "file_extension": ".py",
   "mimetype": "text/x-python",
   "name": "python",
   "nbconvert_exporter": "python",
   "pygments_lexer": "ipython3",
   "version": "3.11.10"
  }
 },
 "nbformat": 4,
 "nbformat_minor": 2
}
