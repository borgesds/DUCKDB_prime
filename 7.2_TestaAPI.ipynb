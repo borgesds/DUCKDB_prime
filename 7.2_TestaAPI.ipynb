{
 "cells": [
  {
   "cell_type": "code",
   "execution_count": 3,
   "id": "1c853a09-2e69-4af0-b166-cc53b09bd173",
   "metadata": {},
   "outputs": [],
   "source": [
    "import requests\n",
    "import pandas as pd"
   ]
  },
  {
   "cell_type": "code",
   "execution_count": 4,
   "id": "eb8bb2ab-abfa-480b-8a39-574021752f03",
   "metadata": {},
   "outputs": [
    {
     "name": "stdout",
     "output_type": "stream",
     "text": [
      "Dados da tabela receita_total_cliente (limite de 10 registros):\n",
      "  CustomerID                         CompanyName  TotalRevenue\n",
      "0      BSBEV                       B's Beverages  6.154115e+06\n",
      "1      HUNGC          Hungry Coyote Import Store  5.698024e+06\n",
      "2      RANCH                       Rancho grande  5.559110e+06\n",
      "3      GOURL                 Gourmet Lanchonetes  5.552310e+06\n",
      "4      ANATR  Ana Trujillo Emparedados y helados  5.534357e+06\n",
      "5      RICAR                  Ricardo Adocicados  5.524517e+06\n",
      "6      FOLIG                   Folies gourmandes  5.505503e+06\n",
      "7      LETSS                   Let's Stop N Shop  5.462198e+06\n",
      "8      LILAS                   LILA-Supermercado  5.437438e+06\n",
      "9      PRINI              Princesa Isabel Vinhos  5.436771e+06\n",
      "Resultado da consulta SQL:\n",
      "   count_star()\n",
      "0            93\n"
     ]
    }
   ],
   "source": [
    "base_url = 'http://127.0.0.1:5000'\n",
    "\n",
    "def test_get_table_data(table_name, limit=10):\n",
    "    response = requests.get(f\"{base_url}/get_table_data\", params={'table_name': table_name, 'limit': limit})\n",
    "    if response.status_code == 200:\n",
    "        data = response.json()\n",
    "        columns = data['columns']\n",
    "        rows = data['data']\n",
    "       \n",
    "        df = pd.DataFrame(rows, columns=columns)\n",
    "        print(f\"Dados da tabela {table_name} (limite de {limit} registros):\")\n",
    "        print(df)\n",
    "    else:\n",
    "        print(f\"Erro: {response.status_code}\")\n",
    "        print(response.text)\n",
    "\n",
    "def test_execute_sql(query):\n",
    "    response = requests.post(f\"{base_url}/execute_sql\", json={'query': query})\n",
    "    if response.status_code == 200:\n",
    "        data = response.json()\n",
    "        columns = data['columns']\n",
    "        rows = data['data']\n",
    "        \n",
    "        df = pd.DataFrame(rows, columns=columns)\n",
    "        print(\"Resultado da consulta SQL:\")\n",
    "        print(df)\n",
    "    else:\n",
    "        print(f\"Erro: {response.status_code}\")\n",
    "        print(response.text)\n",
    "\n",
    "\n",
    "test_get_table_data('receita_total_cliente')\n",
    "\n",
    "sql_query = \"SELECT COUNT(*) FROM receita_total_cliente\"\n",
    "test_execute_sql(sql_query)\n"
   ]
  },
  {
   "cell_type": "code",
   "execution_count": null,
   "id": "7f2606d7-6976-4057-9f93-df0e9c26648c",
   "metadata": {},
   "outputs": [],
   "source": []
  },
  {
   "cell_type": "code",
   "execution_count": null,
   "id": "acda0eac-bb4c-4f60-b643-6d84e735a7c0",
   "metadata": {},
   "outputs": [],
   "source": []
  }
 ],
 "metadata": {
  "kernelspec": {
   "display_name": "Python 3 (ipykernel)",
   "language": "python",
   "name": "python3"
  },
  "language_info": {
   "codemirror_mode": {
    "name": "ipython",
    "version": 3
   },
   "file_extension": ".py",
   "mimetype": "text/x-python",
   "name": "python",
   "nbconvert_exporter": "python",
   "pygments_lexer": "ipython3",
   "version": "3.11.9"
  }
 },
 "nbformat": 4,
 "nbformat_minor": 5
}
