{
 "cells": [
  {
   "cell_type": "code",
   "execution_count": 1,
   "metadata": {},
   "outputs": [],
   "source": [
    "import pandas as pd\n",
    "import numpy as np\n",
    "import duckdb\n",
    "from datetime import datetime, timedelta"
   ]
  },
  {
   "cell_type": "code",
   "execution_count": 2,
   "metadata": {},
   "outputs": [],
   "source": [
    "# Criação de um DataFrame de exemplo\n",
    "data = {\n",
    "    'id': range(1, 11),\n",
    "    'name': ['Alice', 'Bob', 'Charlie', 'David', 'Eve', 'Alice', 'Grace', 'Hannah', 'Ivy', 'Jack'],\n",
    "    'age': np.random.randint(20, 50, size=10),\n",
    "    'signup_date': [datetime(2023, 1, 1) + timedelta(days=i) for i in range(10)],\n",
    "    'purchase_amount': np.random.uniform(50.5, 500.75, size=10)\n",
    "}\n",
    "df = pd.DataFrame(data)"
   ]
  },
  {
   "cell_type": "code",
   "execution_count": 3,
   "metadata": {},
   "outputs": [],
   "source": [
    "# DuckDB em memória\n",
    "con = duckdb.connect(database=':memory:')"
   ]
  },
  {
   "cell_type": "code",
   "execution_count": 4,
   "metadata": {},
   "outputs": [
    {
     "data": {
      "text/plain": [
       "<duckdb.duckdb.DuckDBPyConnection at 0x7efef030c530>"
      ]
     },
     "execution_count": 4,
     "metadata": {},
     "output_type": "execute_result"
    }
   ],
   "source": [
    "# DataFrame como uma tabela DuckDB\n",
    "con.register('df', df)"
   ]
  },
  {
   "cell_type": "code",
   "execution_count": 5,
   "metadata": {},
   "outputs": [
    {
     "name": "stdout",
     "output_type": "stream",
     "text": [
      "\n",
      "1. Todos os dados da tabela df:\n",
      "┌───────┬─────────┬───────┬─────────────────────┬────────────────────┐\n",
      "│  id   │  name   │  age  │     signup_date     │  purchase_amount   │\n",
      "│ int64 │ varchar │ int64 │    timestamp_ns     │       double       │\n",
      "├───────┼─────────┼───────┼─────────────────────┼────────────────────┤\n",
      "│     1 │ Alice   │    32 │ 2023-01-01 00:00:00 │ 219.35184330198967 │\n",
      "│     2 │ Bob     │    28 │ 2023-01-02 00:00:00 │ 107.54957526210248 │\n",
      "│     3 │ Charlie │    43 │ 2023-01-03 00:00:00 │  74.26470488544021 │\n",
      "│     4 │ David   │    47 │ 2023-01-04 00:00:00 │  306.3556057851411 │\n",
      "│     5 │ Eve     │    30 │ 2023-01-05 00:00:00 │  169.2540914937183 │\n",
      "│     6 │ Alice   │    38 │ 2023-01-06 00:00:00 │   59.9378069382538 │\n",
      "│     7 │ Grace   │    37 │ 2023-01-07 00:00:00 │ 124.33150352875784 │\n",
      "│     8 │ Hannah  │    48 │ 2023-01-08 00:00:00 │ 481.17723532470717 │\n",
      "│     9 │ Ivy     │    38 │ 2023-01-09 00:00:00 │  304.8140112760028 │\n",
      "│    10 │ Jack    │    20 │ 2023-01-10 00:00:00 │ 128.98012071012505 │\n",
      "├───────┴─────────┴───────┴─────────────────────┴────────────────────┤\n",
      "│ 10 rows                                                  5 columns │\n",
      "└────────────────────────────────────────────────────────────────────┘\n",
      "\n"
     ]
    }
   ],
   "source": [
    "# Executar consulta \n",
    "result_1 = con.sql('FROM df')\n",
    "print(\"\\n1. Todos os dados da tabela df:\")\n",
    "print(result_1)"
   ]
  },
  {
   "cell_type": "markdown",
   "metadata": {},
   "source": [
    "### Agregação"
   ]
  },
  {
   "cell_type": "code",
   "execution_count": 6,
   "metadata": {},
   "outputs": [
    {
     "name": "stdout",
     "output_type": "stream",
     "text": [
      "\n",
      "2. Contagem de IDs por nome:\n",
      "┌─────────┬───────┐\n",
      "│  name   │ count │\n",
      "│ varchar │ int64 │\n",
      "├─────────┼───────┤\n",
      "│ Alice   │     2 │\n",
      "│ Charlie │     1 │\n",
      "│ Bob     │     1 │\n",
      "│ Hannah  │     1 │\n",
      "│ Ivy     │     1 │\n",
      "│ David   │     1 │\n",
      "│ Jack    │     1 │\n",
      "│ Eve     │     1 │\n",
      "│ Grace   │     1 │\n",
      "└─────────┴───────┘\n",
      "\n"
     ]
    }
   ],
   "source": [
    "result_2 = con.sql('SELECT name, COUNT(name) as count FROM df GROUP BY name')\n",
    "print(\"\\n2. Contagem de IDs por nome:\")\n",
    "print(result_2)"
   ]
  },
  {
   "cell_type": "markdown",
   "metadata": {},
   "source": [
    "### Função de Janela"
   ]
  },
  {
   "cell_type": "code",
   "execution_count": 7,
   "metadata": {},
   "outputs": [
    {
     "name": "stdout",
     "output_type": "stream",
     "text": [
      "\n",
      "3. Função de janela com row_number ordenado por idade:\n",
      "┌─────────┬───────┬─────────┐\n",
      "│  name   │  age  │ row_num │\n",
      "│ varchar │ int64 │  int64  │\n",
      "├─────────┼───────┼─────────┤\n",
      "│ Jack    │    20 │       1 │\n",
      "│ Bob     │    28 │       2 │\n",
      "│ Eve     │    30 │       3 │\n",
      "│ Alice   │    32 │       4 │\n",
      "│ Grace   │    37 │       5 │\n",
      "│ Alice   │    38 │       6 │\n",
      "│ Ivy     │    38 │       7 │\n",
      "│ Charlie │    43 │       8 │\n",
      "│ David   │    47 │       9 │\n",
      "│ Hannah  │    48 │      10 │\n",
      "├─────────┴───────┴─────────┤\n",
      "│ 10 rows         3 columns │\n",
      "└───────────────────────────┘\n",
      "\n"
     ]
    }
   ],
   "source": [
    "result_3 = con.sql('SELECT name, age, row_number() \\\n",
    "            OVER (ORDER BY age) as row_num FROM df')\n",
    "print(\"\\n3. Função de janela com row_number ordenado por idade:\")\n",
    "print(result_3)"
   ]
  },
  {
   "cell_type": "markdown",
   "metadata": {},
   "source": [
    "### Fuções Matemáticas"
   ]
  },
  {
   "cell_type": "code",
   "execution_count": 8,
   "metadata": {},
   "outputs": [
    {
     "name": "stdout",
     "output_type": "stream",
     "text": [
      "\n",
      "4. Logaritmo da quantidade comprada (purchase_amount):\n",
      "┌─────────┬────────────────────┐\n",
      "│  name   │    log_purchase    │\n",
      "│ varchar │       double       │\n",
      "├─────────┼────────────────────┤\n",
      "│ Alice   │ 2.3411412883079525 │\n",
      "│ Bob     │  2.031608699598522 │\n",
      "│ Charlie │ 1.8707824595825535 │\n",
      "│ David   │ 2.4862258315890733 │\n",
      "│ Eve     │ 2.2285391759785536 │\n",
      "│ Alice   │ 1.7777008485188863 │\n",
      "│ Grace   │  2.094581185561858 │\n",
      "│ Hannah  │  2.682305072519164 │\n",
      "│ Ivy     │  2.484034926184611 │\n",
      "│ Jack    │  2.110522779049739 │\n",
      "├─────────┴────────────────────┤\n",
      "│ 10 rows            2 columns │\n",
      "└──────────────────────────────┘\n",
      "\n"
     ]
    }
   ],
   "source": [
    "# Funções matemática\n",
    "result_4 = con.sql('SELECT name, LOG(purchase_amount) as log_purchase FROM df')\n",
    "print(\"\\n4. Logaritmo da quantidade comprada (purchase_amount):\")\n",
    "print(result_4)"
   ]
  },
  {
   "cell_type": "markdown",
   "metadata": {},
   "source": [
    "### Subqueries na cláusula FROM"
   ]
  },
  {
   "cell_type": "code",
   "execution_count": 9,
   "metadata": {},
   "outputs": [
    {
     "name": "stdout",
     "output_type": "stream",
     "text": [
      "\n",
      "6. Subquery com filtragem de média de compras maior que 250:\n",
      "┌─────────┬─────────────────────┐\n",
      "│  name   │ avg_purchase_amount │\n",
      "│ varchar │       double        │\n",
      "├─────────┼─────────────────────┤\n",
      "│ David   │   306.3556057851411 │\n",
      "│ Hannah  │  481.17723532470717 │\n",
      "│ Ivy     │   304.8140112760028 │\n",
      "└─────────┴─────────────────────┘\n",
      "\n"
     ]
    }
   ],
   "source": [
    "result_6 = con.sql('SELECT name, avg_purchase_amount \\\n",
    "            FROM (SELECT name, AVG(purchase_amount) as avg_purchase_amount \\\n",
    "                  FROM df \\\n",
    "                  GROUP BY name) \\\n",
    "            WHERE avg_purchase_amount > 250')\n",
    "print(\"\\n6. Subquery com filtragem de média de compras maior que 250:\")\n",
    "print(result_6)"
   ]
  },
  {
   "cell_type": "markdown",
   "metadata": {},
   "source": [
    "### Manipulação de strings "
   ]
  },
  {
   "cell_type": "code",
   "execution_count": 11,
   "metadata": {},
   "outputs": [
    {
     "name": "stdout",
     "output_type": "stream",
     "text": [
      "\n",
      "7. Nome em letras maiúsculas (UPPER):\n",
      "┌─────────┬────────────┐\n",
      "│  name   │ upper_name │\n",
      "│ varchar │  varchar   │\n",
      "├─────────┼────────────┤\n",
      "│ Alice   │ ALICE      │\n",
      "│ Bob     │ BOB        │\n",
      "│ Charlie │ CHARLIE    │\n",
      "│ David   │ DAVID      │\n",
      "│ Eve     │ EVE        │\n",
      "│ Alice   │ ALICE      │\n",
      "│ Grace   │ GRACE      │\n",
      "│ Hannah  │ HANNAH     │\n",
      "│ Ivy     │ IVY        │\n",
      "│ Jack    │ JACK       │\n",
      "├─────────┴────────────┤\n",
      "│ 10 rows    2 columns │\n",
      "└──────────────────────┘\n",
      "\n"
     ]
    }
   ],
   "source": [
    "result_7 = con.sql('SELECT name, UPPER(name) as upper_name FROM df')\n",
    "print(\"\\n7. Nome em letras maiúsculas (UPPER):\")\n",
    "print(result_7)"
   ]
  },
  {
   "cell_type": "markdown",
   "metadata": {},
   "source": [
    "### Consultas SQL diretamente em arquivos sem carregá-los"
   ]
  },
  {
   "cell_type": "code",
   "execution_count": 12,
   "metadata": {},
   "outputs": [
    {
     "name": "stdout",
     "output_type": "stream",
     "text": [
      "\n",
      "8A. Consulta direta em CSV:\n",
      "┌─────────┬────────────────┬───────┬─────────────────┬───────────────┐\n",
      "│ user_id │      name      │  age  │ purchase_amount │ purchase_date │\n",
      "│  int64  │    varchar     │ int64 │     double      │     date      │\n",
      "├─────────┼────────────────┼───────┼─────────────────┼───────────────┤\n",
      "│     101 │ John Doe       │    28 │          250.75 │ 2024-08-01    │\n",
      "│     102 │ Jane Smith     │    34 │           300.0 │ 2024-08-02    │\n",
      "│     103 │ Alice Johnson  │    23 │           120.5 │ 2024-08-03    │\n",
      "│     104 │ Chris Evans    │    45 │           450.0 │ 2024-08-04    │\n",
      "│     105 │ Emily Davis    │    30 │            80.0 │ 2024-08-05    │\n",
      "│     106 │ Michael Brown  │    40 │          199.99 │ 2024-08-06    │\n",
      "│     107 │ Jessica Taylor │    29 │          349.99 │ 2024-08-07    │\n",
      "│     108 │ Daniel Wilson  │    35 │           220.0 │ 2024-08-08    │\n",
      "│     109 │ Laura Clark    │    27 │          110.75 │ 2024-08-09    │\n",
      "│     110 │ Robert Lewis   │    31 │           500.0 │ 2024-08-10    │\n",
      "├─────────┴────────────────┴───────┴─────────────────┴───────────────┤\n",
      "│ 10 rows                                                  5 columns │\n",
      "└────────────────────────────────────────────────────────────────────┘\n",
      "\n"
     ]
    }
   ],
   "source": [
    "result_8A = con.sql(\"SELECT * FROM 'data/data.csv'\")\n",
    "print(\"\\n8A. Consulta direta em CSV:\")\n",
    "print(result_8A)"
   ]
  },
  {
   "cell_type": "code",
   "execution_count": 13,
   "metadata": {},
   "outputs": [
    {
     "name": "stdout",
     "output_type": "stream",
     "text": [
      "\n",
      "8B. Consulta direta em parquet:\n",
      "┌─────────┬────────────────┬───────┬─────────────────┬───────────────┐\n",
      "│ user_id │      name      │  age  │ purchase_amount │ purchase_date │\n",
      "│  int64  │    varchar     │ int64 │     double      │    varchar    │\n",
      "├─────────┼────────────────┼───────┼─────────────────┼───────────────┤\n",
      "│     101 │ John Doe       │    28 │          250.75 │ 2024-08-01    │\n",
      "│     102 │ Jane Smith     │    34 │           300.0 │ 2024-08-02    │\n",
      "│     103 │ Alice Johnson  │    23 │           120.5 │ 2024-08-03    │\n",
      "│     104 │ Chris Evans    │    45 │           450.0 │ 2024-08-04    │\n",
      "│     105 │ Emily Davis    │    30 │            80.0 │ 2024-08-05    │\n",
      "│     106 │ Michael Brown  │    40 │          199.99 │ 2024-08-06    │\n",
      "│     107 │ Jessica Taylor │    29 │          349.99 │ 2024-08-07    │\n",
      "│     108 │ Daniel Wilson  │    35 │           220.0 │ 2024-08-08    │\n",
      "│     109 │ Laura Clark    │    27 │          110.75 │ 2024-08-09    │\n",
      "│     110 │ Robert Lewis   │    31 │           500.0 │ 2024-08-10    │\n",
      "├─────────┴────────────────┴───────┴─────────────────┴───────────────┤\n",
      "│ 10 rows                                                  5 columns │\n",
      "└────────────────────────────────────────────────────────────────────┘\n",
      "\n"
     ]
    }
   ],
   "source": [
    "result_8B = con.sql(\"SELECT * FROM 'data/data.parquet'\")\n",
    "print(\"\\n8B. Consulta direta em parquet:\")\n",
    "print(result_8B)"
   ]
  },
  {
   "cell_type": "code",
   "execution_count": 14,
   "metadata": {},
   "outputs": [
    {
     "name": "stdout",
     "output_type": "stream",
     "text": [
      "\n",
      "8C. Consulta direta em Json:\n",
      "┌─────────┬────────────────┬───────┬─────────────────┬───────────────┐\n",
      "│ user_id │      name      │  age  │ purchase_amount │ purchase_date │\n",
      "│  int64  │    varchar     │ int64 │     double      │     date      │\n",
      "├─────────┼────────────────┼───────┼─────────────────┼───────────────┤\n",
      "│     101 │ John Doe       │    28 │          250.75 │ 2024-08-01    │\n",
      "│     102 │ Jane Smith     │    34 │           300.0 │ 2024-08-02    │\n",
      "│     103 │ Alice Johnson  │    23 │           120.5 │ 2024-08-03    │\n",
      "│     104 │ Chris Evans    │    45 │           450.0 │ 2024-08-04    │\n",
      "│     105 │ Emily Davis    │    30 │            80.0 │ 2024-08-05    │\n",
      "│     106 │ Michael Brown  │    40 │          199.99 │ 2024-08-06    │\n",
      "│     107 │ Jessica Taylor │    29 │          349.99 │ 2024-08-07    │\n",
      "│     108 │ Daniel Wilson  │    35 │           220.0 │ 2024-08-08    │\n",
      "│     109 │ Laura Clark    │    27 │          110.75 │ 2024-08-09    │\n",
      "│     110 │ Robert Lewis   │    31 │           500.0 │ 2024-08-10    │\n",
      "├─────────┴────────────────┴───────┴─────────────────┴───────────────┤\n",
      "│ 10 rows                                                  5 columns │\n",
      "└────────────────────────────────────────────────────────────────────┘\n",
      "\n"
     ]
    }
   ],
   "source": [
    "result_8C = con.sql(\"SELECT * FROM 'data/data.json'\")\n",
    "print(\"\\n8C. Consulta direta em Json:\")\n",
    "print(result_8C)"
   ]
  },
  {
   "cell_type": "code",
   "execution_count": 15,
   "metadata": {},
   "outputs": [
    {
     "name": "stdout",
     "output_type": "stream",
     "text": [
      "\n",
      "8D. Consulta direta em SQLite:\n",
      "┌───────────┐\n",
      "│ LastName  │\n",
      "│  varchar  │\n",
      "├───────────┤\n",
      "│ Davolio   │\n",
      "│ Fuller    │\n",
      "│ Leverling │\n",
      "│ Peacock   │\n",
      "│ Buchanan  │\n",
      "│ Suyama    │\n",
      "│ King      │\n",
      "│ Callahan  │\n",
      "│ Dodsworth │\n",
      "└───────────┘\n",
      "\n"
     ]
    }
   ],
   "source": [
    "result_8D = con.sql(\"SELECT LastName  FROM \\\n",
    "        sqlite_scan('data/northwind.db', 'employees') limit 10\")\n",
    "print(\"\\n8D. Consulta direta em SQLite:\")\n",
    "print(result_8D)"
   ]
  },
  {
   "cell_type": "markdown",
   "metadata": {},
   "source": [
    "### Datas e horas"
   ]
  },
  {
   "cell_type": "code",
   "execution_count": 16,
   "metadata": {},
   "outputs": [
    {
     "name": "stdout",
     "output_type": "stream",
     "text": [
      "\n",
      "9. Manipulação de datas (YEAR, MONTH, DAY):\n",
      "┌─────────────────────┬───────┬───────┬───────┐\n",
      "│     signup_date     │ year  │ month │  day  │\n",
      "│    timestamp_ns     │ int64 │ int64 │ int64 │\n",
      "├─────────────────────┼───────┼───────┼───────┤\n",
      "│ 2023-01-01 00:00:00 │  2023 │     1 │     1 │\n",
      "│ 2023-01-02 00:00:00 │  2023 │     1 │     2 │\n",
      "│ 2023-01-03 00:00:00 │  2023 │     1 │     3 │\n",
      "│ 2023-01-04 00:00:00 │  2023 │     1 │     4 │\n",
      "│ 2023-01-05 00:00:00 │  2023 │     1 │     5 │\n",
      "│ 2023-01-06 00:00:00 │  2023 │     1 │     6 │\n",
      "│ 2023-01-07 00:00:00 │  2023 │     1 │     7 │\n",
      "│ 2023-01-08 00:00:00 │  2023 │     1 │     8 │\n",
      "│ 2023-01-09 00:00:00 │  2023 │     1 │     9 │\n",
      "│ 2023-01-10 00:00:00 │  2023 │     1 │    10 │\n",
      "├─────────────────────┴───────┴───────┴───────┤\n",
      "│ 10 rows                           4 columns │\n",
      "└─────────────────────────────────────────────┘\n",
      "\n"
     ]
    }
   ],
   "source": [
    "result_9 = con.sql(\"SELECT signup_date, YEAR(signup_date) \\\n",
    "            as year, MONTH(signup_date) as month,\\\n",
    "            DAY(signup_date) as day FROM df\")\n",
    "print(\"\\n9. Manipulação de datas (YEAR, MONTH, DAY):\")\n",
    "print(result_9)"
   ]
  },
  {
   "cell_type": "markdown",
   "metadata": {},
   "source": [
    "### CASE"
   ]
  },
  {
   "cell_type": "code",
   "execution_count": 17,
   "metadata": {},
   "outputs": [
    {
     "name": "stdout",
     "output_type": "stream",
     "text": [
      "\n",
      "10. Utilização de CASE para categorizar idade:\n",
      "┌─────────┬────────────┐\n",
      "│  name   │ age_group  │\n",
      "│ varchar │  varchar   │\n",
      "├─────────┼────────────┤\n",
      "│ Alice   │ Mais velho │\n",
      "│ Bob     │ Jovem      │\n",
      "│ Charlie │ Mais velho │\n",
      "│ David   │ Mais velho │\n",
      "│ Eve     │ Jovem      │\n",
      "│ Alice   │ Mais velho │\n",
      "│ Grace   │ Mais velho │\n",
      "│ Hannah  │ Mais velho │\n",
      "│ Ivy     │ Mais velho │\n",
      "│ Jack    │ Jovem      │\n",
      "├─────────┴────────────┤\n",
      "│ 10 rows    2 columns │\n",
      "└──────────────────────┘\n",
      "\n"
     ]
    }
   ],
   "source": [
    "result_10 = con.sql(\"SELECT name, \\\n",
    "                            CASE WHEN age > 30  THEN 'Mais velho' \\\n",
    "                            ELSE 'Jovem' \\\n",
    "                            END AS age_group FROM df\")\n",
    "print(\"\\n10. Utilização de CASE para categorizar idade:\")\n",
    "print(result_10)"
   ]
  },
  {
   "cell_type": "markdown",
   "metadata": {},
   "source": [
    "### Funções JSON "
   ]
  },
  {
   "cell_type": "code",
   "execution_count": null,
   "metadata": {},
   "outputs": [
    {
     "name": "stdout",
     "output_type": "stream",
     "text": [
      "\n",
      "11. Extração de valor de JSON:\n",
      "┌─────────┬────────────┐\n",
      "│  name   │ key1_value │\n",
      "│ varchar │    json    │\n",
      "├─────────┼────────────┤\n",
      "│ Alice   │ \"value1\"   │\n",
      "│ Bob     │ \"value1\"   │\n",
      "│ Charlie │ \"value1\"   │\n",
      "│ David   │ \"value1\"   │\n",
      "│ Eve     │ \"value1\"   │\n",
      "│ Alice   │ \"value1\"   │\n",
      "│ Grace   │ \"value1\"   │\n",
      "│ Hannah  │ \"value1\"   │\n",
      "│ Ivy     │ \"value1\"   │\n",
      "│ Jack    │ \"value1\"   │\n",
      "├─────────┴────────────┤\n",
      "│ 10 rows    2 columns │\n",
      "└──────────────────────┘\n",
      "\n"
     ]
    }
   ],
   "source": [
    "df['json_data'] = '{\"key1\": \"value1\", \"key2\": \"value2\"}'\n",
    "\n",
    "# atualiza\n",
    "con.register('df', df)\n",
    "\n",
    "result_11 = con.sql(\"SELECT name, json_data->'key1' as key1_value FROM df\")\n",
    "\n",
    "print(\"\\n11. Extração de valor de JSON:\")\n",
    "\n",
    "print(result_11)"
   ]
  },
  {
   "cell_type": "markdown",
   "metadata": {},
   "source": [
    "### Join com subquery"
   ]
  },
  {
   "cell_type": "code",
   "execution_count": null,
   "metadata": {},
   "outputs": [
    {
     "name": "stdout",
     "output_type": "stream",
     "text": [
      "\n",
      "12. Join com subquery:\n",
      "┌─────────┬───────────┐\n",
      "│  name   │ age_group │\n",
      "│ varchar │  varchar  │\n",
      "├─────────┼───────────┤\n",
      "│ Alice   │ Older     │\n",
      "│ Bob     │ Younger   │\n",
      "│ Charlie │ Older     │\n",
      "│ David   │ Older     │\n",
      "│ Eve     │ Younger   │\n",
      "│ Alice   │ Older     │\n",
      "│ Grace   │ Older     │\n",
      "│ Hannah  │ Older     │\n",
      "│ Ivy     │ Older     │\n",
      "│ Jack    │ Younger   │\n",
      "│ Alice   │ Older     │\n",
      "│ Alice   │ Older     │\n",
      "├─────────┴───────────┤\n",
      "│ 12 rows   2 columns │\n",
      "└─────────────────────┘\n",
      "\n"
     ]
    }
   ],
   "source": [
    "result_12 = con.sql(\"\"\"\n",
    "    SELECT a.name, b.age_group FROM df a \n",
    "    JOIN (SELECT name, CASE WHEN age > 30 THEN 'Older' ELSE 'Younger' END AS age_group FROM df) b \n",
    "    ON a.name = b.name\n",
    "    \"\"\")\n",
    "\n",
    "print(\"\\n12. Join com subquery:\")\n",
    "\n",
    "print(result_12)"
   ]
  },
  {
   "cell_type": "markdown",
   "metadata": {},
   "source": [
    "### CTEs (Common Table Expressions)"
   ]
  },
  {
   "cell_type": "code",
   "execution_count": 20,
   "metadata": {},
   "outputs": [
    {
     "name": "stdout",
     "output_type": "stream",
     "text": [
      "\n",
      "13. Utilização de CTE (Common Table Expressions):\n",
      "┌─────────┬───────────┐\n",
      "│  name   │ age_group │\n",
      "│ varchar │  varchar  │\n",
      "├─────────┼───────────┤\n",
      "│ Alice   │ Older     │\n",
      "│ Bob     │ Younger   │\n",
      "│ Charlie │ Older     │\n",
      "│ David   │ Older     │\n",
      "│ Eve     │ Younger   │\n",
      "│ Alice   │ Older     │\n",
      "│ Grace   │ Older     │\n",
      "│ Hannah  │ Older     │\n",
      "│ Ivy     │ Older     │\n",
      "│ Jack    │ Younger   │\n",
      "├─────────┴───────────┤\n",
      "│ 10 rows   2 columns │\n",
      "└─────────────────────┘\n",
      "\n"
     ]
    }
   ],
   "source": [
    "result_13 = con.sql(\"\"\"\n",
    "            WITH AgeGroups AS (\n",
    "                SELECT name, CASE WHEN age > 30 THEN 'Older' ELSE 'Younger' END AS age_group FROM df\n",
    "            )\n",
    "            SELECT * FROM AgeGroups\n",
    "            \"\"\")\n",
    "print(\"\\n13. Utilização de CTE (Common Table Expressions):\")\n",
    "print(result_13)"
   ]
  },
  {
   "cell_type": "markdown",
   "metadata": {},
   "source": [
    "### Agregação"
   ]
  },
  {
   "cell_type": "code",
   "execution_count": 21,
   "metadata": {},
   "outputs": [
    {
     "name": "stdout",
     "output_type": "stream",
     "text": [
      "\n",
      "14. Funções de agregação avançadas (AVG, SUM):\n",
      "┌────────────────────┬────────────────────┐\n",
      "│    avg_purchase    │   total_purchase   │\n",
      "│       double       │       double       │\n",
      "├────────────────────┼────────────────────┤\n",
      "│ 197.60164985062383 │ 1976.0164985062383 │\n",
      "└────────────────────┴────────────────────┘\n",
      "\n"
     ]
    }
   ],
   "source": [
    "result_14 = con.sql(\"SELECT AVG(purchase_amount) as avg_purchase, \\\n",
    "                SUM(purchase_amount) as total_purchase FROM df\")\n",
    "print(\"\\n14. Funções de agregação avançadas (AVG, SUM):\")\n",
    "print(result_14)"
   ]
  },
  {
   "cell_type": "markdown",
   "metadata": {},
   "source": [
    "### Tabela a partir de uma consulta"
   ]
  },
  {
   "cell_type": "code",
   "execution_count": 22,
   "metadata": {},
   "outputs": [
    {
     "name": "stdout",
     "output_type": "stream",
     "text": [
      "\n",
      "15. Tabela criada a partir de uma consulta (older_customers):\n",
      "┌───────┬─────────┬───────┬─────────────────────┬────────────────────┬──────────────────────────────────────┐\n",
      "│  id   │  name   │  age  │     signup_date     │  purchase_amount   │              json_data               │\n",
      "│ int64 │ varchar │ int64 │    timestamp_ns     │       double       │               varchar                │\n",
      "├───────┼─────────┼───────┼─────────────────────┼────────────────────┼──────────────────────────────────────┤\n",
      "│     1 │ Alice   │    32 │ 2023-01-01 00:00:00 │ 219.35184330198967 │ {\"key1\": \"value1\", \"key2\": \"value2\"} │\n",
      "│     3 │ Charlie │    43 │ 2023-01-03 00:00:00 │  74.26470488544021 │ {\"key1\": \"value1\", \"key2\": \"value2\"} │\n",
      "│     4 │ David   │    47 │ 2023-01-04 00:00:00 │  306.3556057851411 │ {\"key1\": \"value1\", \"key2\": \"value2\"} │\n",
      "│     6 │ Alice   │    38 │ 2023-01-06 00:00:00 │   59.9378069382538 │ {\"key1\": \"value1\", \"key2\": \"value2\"} │\n",
      "│     7 │ Grace   │    37 │ 2023-01-07 00:00:00 │ 124.33150352875784 │ {\"key1\": \"value1\", \"key2\": \"value2\"} │\n",
      "│     8 │ Hannah  │    48 │ 2023-01-08 00:00:00 │ 481.17723532470717 │ {\"key1\": \"value1\", \"key2\": \"value2\"} │\n",
      "│     9 │ Ivy     │    38 │ 2023-01-09 00:00:00 │  304.8140112760028 │ {\"key1\": \"value1\", \"key2\": \"value2\"} │\n",
      "└───────┴─────────┴───────┴─────────────────────┴────────────────────┴──────────────────────────────────────┘\n",
      "\n"
     ]
    }
   ],
   "source": [
    "con.sql(\"CREATE TABLE older_customers AS SELECT * FROM df WHERE age > 30\")\n",
    "result_15 = con.sql(\"SELECT * FROM older_customers\")\n",
    "print(\"\\n15. Tabela criada a partir de uma consulta (older_customers):\")\n",
    "print(result_15)"
   ]
  },
  {
   "cell_type": "markdown",
   "metadata": {},
   "source": [
    "### Tabelas temporárias"
   ]
  },
  {
   "cell_type": "code",
   "execution_count": 23,
   "metadata": {},
   "outputs": [
    {
     "name": "stdout",
     "output_type": "stream",
     "text": [
      "\n",
      "16. Consulta utilizando tabela temporária:\n",
      "┌───────┬─────────┬───────┬─────────────────────┬────────────────────┬──────────────────────────────────────┐\n",
      "│  id   │  name   │  age  │     signup_date     │  purchase_amount   │              json_data               │\n",
      "│ int64 │ varchar │ int64 │    timestamp_ns     │       double       │               varchar                │\n",
      "├───────┼─────────┼───────┼─────────────────────┼────────────────────┼──────────────────────────────────────┤\n",
      "│     1 │ Alice   │    32 │ 2023-01-01 00:00:00 │ 219.35184330198967 │ {\"key1\": \"value1\", \"key2\": \"value2\"} │\n",
      "│     2 │ Bob     │    28 │ 2023-01-02 00:00:00 │ 107.54957526210248 │ {\"key1\": \"value1\", \"key2\": \"value2\"} │\n",
      "│     3 │ Charlie │    43 │ 2023-01-03 00:00:00 │  74.26470488544021 │ {\"key1\": \"value1\", \"key2\": \"value2\"} │\n",
      "│     4 │ David   │    47 │ 2023-01-04 00:00:00 │  306.3556057851411 │ {\"key1\": \"value1\", \"key2\": \"value2\"} │\n",
      "│     5 │ Eve     │    30 │ 2023-01-05 00:00:00 │  169.2540914937183 │ {\"key1\": \"value1\", \"key2\": \"value2\"} │\n",
      "│     6 │ Alice   │    38 │ 2023-01-06 00:00:00 │   59.9378069382538 │ {\"key1\": \"value1\", \"key2\": \"value2\"} │\n",
      "│     7 │ Grace   │    37 │ 2023-01-07 00:00:00 │ 124.33150352875784 │ {\"key1\": \"value1\", \"key2\": \"value2\"} │\n",
      "│     8 │ Hannah  │    48 │ 2023-01-08 00:00:00 │ 481.17723532470717 │ {\"key1\": \"value1\", \"key2\": \"value2\"} │\n",
      "│     9 │ Ivy     │    38 │ 2023-01-09 00:00:00 │  304.8140112760028 │ {\"key1\": \"value1\", \"key2\": \"value2\"} │\n",
      "│    10 │ Jack    │    20 │ 2023-01-10 00:00:00 │ 128.98012071012505 │ {\"key1\": \"value1\", \"key2\": \"value2\"} │\n",
      "├───────┴─────────┴───────┴─────────────────────┴────────────────────┴──────────────────────────────────────┤\n",
      "│ 10 rows                                                                                         6 columns │\n",
      "└───────────────────────────────────────────────────────────────────────────────────────────────────────────┘\n",
      "\n"
     ]
    }
   ],
   "source": [
    "con.sql(\"CREATE TEMP TABLE temp_table AS SELECT * FROM df\")\n",
    "result_16 = con.sql(\"SELECT * FROM temp_table\")\n",
    "print(\"\\n16. Consulta utilizando tabela temporária:\")\n",
    "print(result_16)"
   ]
  },
  {
   "cell_type": "markdown",
   "metadata": {},
   "source": [
    "### Agregação com HAVING"
   ]
  },
  {
   "cell_type": "code",
   "execution_count": 24,
   "metadata": {},
   "outputs": [
    {
     "name": "stdout",
     "output_type": "stream",
     "text": [
      "\n",
      "18. Agregação com HAVING:\n",
      "┌─────────┬───────┐\n",
      "│  name   │ count │\n",
      "│ varchar │ int64 │\n",
      "├─────────┼───────┤\n",
      "│ Alice   │     2 │\n",
      "└─────────┴───────┘\n",
      "\n"
     ]
    }
   ],
   "source": [
    "result_18 = con.sql(\"SELECT name, COUNT(*) as count FROM df GROUP BY name HAVING COUNT(*) > 1\")\n",
    "print(\"\\n18. Agregação com HAVING:\")\n",
    "print(result_18)"
   ]
  },
  {
   "cell_type": "markdown",
   "metadata": {},
   "source": [
    "### Unir tabelas com diferentes colunas usando COALESCE"
   ]
  },
  {
   "cell_type": "code",
   "execution_count": 25,
   "metadata": {},
   "outputs": [
    {
     "name": "stdout",
     "output_type": "stream",
     "text": [
      "\n",
      "19. Unir duas tabelas usando COALESCE:\n",
      "┌──────────┬───────┬────────────────────┐\n",
      "│   name   │  age  │  purchase_amount   │\n",
      "│ varchar  │ int64 │       double       │\n",
      "├──────────┼───────┼────────────────────┤\n",
      "│ Liam     │    40 │  154.7174694179795 │\n",
      "│ Mia      │    41 │ 229.53794484782378 │\n",
      "│ Noah     │    39 │  73.39498314166714 │\n",
      "│ Olivia   │    20 │ 419.14769942602504 │\n",
      "│ Sophia   │    39 │ 218.71759450827483 │\n",
      "│ William  │    28 │  96.43070493026661 │\n",
      "│ Emma     │    47 │  73.89444001305495 │\n",
      "│ James    │    33 │  373.2782866815162 │\n",
      "│ Ava      │    44 │ 238.05034886624824 │\n",
      "│ Benjamin │    39 │ 395.86713669436483 │\n",
      "│ Eve      │    30 │  169.2540914937183 │\n",
      "│ Ivy      │    38 │  304.8140112760028 │\n",
      "│ Bob      │    28 │ 107.54957526210248 │\n",
      "│ Jack     │    20 │ 128.98012071012505 │\n",
      "│ Hannah   │    48 │ 481.17723532470717 │\n",
      "│ Grace    │    37 │ 124.33150352875784 │\n",
      "│ Alice    │    32 │ 219.35184330198967 │\n",
      "│ David    │    47 │  306.3556057851411 │\n",
      "│ Charlie  │    43 │  74.26470488544021 │\n",
      "│ Alice    │    38 │   59.9378069382538 │\n",
      "├──────────┴───────┴────────────────────┤\n",
      "│ 20 rows                     3 columns │\n",
      "└───────────────────────────────────────┘\n",
      "\n"
     ]
    }
   ],
   "source": [
    "df2 = pd.DataFrame({\n",
    "    'id': range(11, 21),\n",
    "    'name': ['Liam', 'Mia', 'Noah', 'Olivia', 'Sophia', 'William', 'Emma', 'James', 'Ava', 'Benjamin'],\n",
    "    'age': np.random.randint(20, 50, size=10),\n",
    "    'purchase_amount': np.random.uniform(50.5, 500.75, size=10)\n",
    "})\n",
    "\n",
    "con.register('df2', df2)\n",
    "\n",
    "result_19 = con.sql(\"\"\"\n",
    "SELECT COALESCE(a.name, b.name) AS name, \n",
    "       COALESCE(a.age, b.age) AS age,\n",
    "       COALESCE(a.purchase_amount, b.purchase_amount) AS purchase_amount\n",
    "FROM df a FULL OUTER JOIN df2 b ON a.id = b.id\n",
    "\"\"\")\n",
    "\n",
    "print(\"\\n19. Unir duas tabelas usando COALESCE:\")\n",
    "\n",
    "print(result_19)\n"
   ]
  },
  {
   "cell_type": "code",
   "execution_count": null,
   "metadata": {},
   "outputs": [],
   "source": []
  },
  {
   "cell_type": "code",
   "execution_count": null,
   "metadata": {},
   "outputs": [],
   "source": []
  },
  {
   "cell_type": "code",
   "execution_count": null,
   "metadata": {},
   "outputs": [],
   "source": []
  },
  {
   "cell_type": "code",
   "execution_count": null,
   "metadata": {},
   "outputs": [],
   "source": []
  },
  {
   "cell_type": "code",
   "execution_count": null,
   "metadata": {},
   "outputs": [],
   "source": []
  },
  {
   "cell_type": "code",
   "execution_count": null,
   "metadata": {},
   "outputs": [],
   "source": []
  },
  {
   "cell_type": "code",
   "execution_count": null,
   "metadata": {},
   "outputs": [],
   "source": []
  },
  {
   "cell_type": "code",
   "execution_count": null,
   "metadata": {},
   "outputs": [],
   "source": []
  }
 ],
 "metadata": {
  "kernelspec": {
   "display_name": "venv",
   "language": "python",
   "name": "python3"
  },
  "language_info": {
   "codemirror_mode": {
    "name": "ipython",
    "version": 3
   },
   "file_extension": ".py",
   "mimetype": "text/x-python",
   "name": "python",
   "nbconvert_exporter": "python",
   "pygments_lexer": "ipython3",
   "version": "3.11.10"
  }
 },
 "nbformat": 4,
 "nbformat_minor": 2
}
