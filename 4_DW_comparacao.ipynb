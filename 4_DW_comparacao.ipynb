{
 "cells": [
  {
   "cell_type": "code",
   "execution_count": 1,
   "metadata": {},
   "outputs": [],
   "source": [
    "import sqlite3\n",
    "import duckdb\n",
    "import pandas as pd"
   ]
  },
  {
   "cell_type": "markdown",
   "metadata": {},
   "source": [
    "### Conexão e Teste"
   ]
  },
  {
   "cell_type": "code",
   "execution_count": 2,
   "metadata": {},
   "outputs": [
    {
     "name": "stdout",
     "output_type": "stream",
     "text": [
      "\n",
      "Exemplo de dados da tabela 'Customers':\n",
      "  CustomerID                         CompanyName         ContactName  \\\n",
      "0      ALFKI                 Alfreds Futterkiste        Maria Anders   \n",
      "1      ANATR  Ana Trujillo Emparedados y helados        Ana Trujillo   \n",
      "2      ANTON             Antonio Moreno Taquería      Antonio Moreno   \n",
      "3      AROUT                     Around the Horn        Thomas Hardy   \n",
      "4      BERGS                  Berglunds snabbköp  Christina Berglund   \n",
      "\n",
      "           ContactTitle                        Address         City  \\\n",
      "0  Sales Representative                  Obere Str. 57       Berlin   \n",
      "1                 Owner  Avda. de la Constitución 2222  México D.F.   \n",
      "2                 Owner                Mataderos  2312  México D.F.   \n",
      "3  Sales Representative                120 Hanover Sq.       London   \n",
      "4   Order Administrator                Berguvsvägen  8        Luleå   \n",
      "\n",
      "            Region PostalCode  Country           Phone             Fax  \n",
      "0   Western Europe      12209  Germany     030-0074321     030-0076545  \n",
      "1  Central America      05021   Mexico    (5) 555-4729    (5) 555-3745  \n",
      "2  Central America      05023   Mexico    (5) 555-3932            None  \n",
      "3    British Isles    WA1 1DP       UK  (171) 555-7788  (171) 555-6750  \n",
      "4  Northern Europe   S-958 22   Sweden   0921-12 34 65   0921-12 34 67  \n"
     ]
    }
   ],
   "source": [
    "sqlite_con = sqlite3.connect('data/northwind.db')\n",
    "\n",
    "df_customers = pd.read_sql_query(\"SELECT * FROM Customers LIMIT 5\", sqlite_con)\n",
    "\n",
    "sqlite_con.close()\n",
    "\n",
    "print(\"\\nExemplo de dados da tabela 'Customers':\")\n",
    "\n",
    "print(df_customers)"
   ]
  },
  {
   "cell_type": "markdown",
   "metadata": {},
   "source": [
    "### Criar Tabelas Duckdb em memória"
   ]
  },
  {
   "cell_type": "code",
   "execution_count": 3,
   "metadata": {},
   "outputs": [
    {
     "data": {
      "text/plain": [
       "<duckdb.duckdb.DuckDBPyConnection at 0x7f1494d536f0>"
      ]
     },
     "execution_count": 3,
     "metadata": {},
     "output_type": "execute_result"
    }
   ],
   "source": [
    "duckdb_con = duckdb.connect(database=':memory:')\n",
    "\n",
    "duckdb_con.execute(\"CREATE TABLE Customers AS SELECT * FROM sqlite_scan('data/northwind.db', 'Customers')\")\n",
    "duckdb_con.execute(\"CREATE TABLE Employees AS SELECT * FROM sqlite_scan('data/northwind.db', 'Employees')\")\n",
    "duckdb_con.execute(\"CREATE TABLE Orders AS SELECT * FROM sqlite_scan('data/northwind.db', 'Orders')\")\n",
    "duckdb_con.execute(\"CREATE TABLE OrderDetails AS SELECT * FROM sqlite_scan('data/northwind.db', 'Order Details')\")\n",
    "duckdb_con.execute(\"CREATE TABLE Products AS SELECT * FROM sqlite_scan('data/northwind.db', 'Products')\")\n",
    "duckdb_con.execute(\"CREATE TABLE Categories AS SELECT * FROM sqlite_scan('data/northwind.db', 'Categories')\")"
   ]
  },
  {
   "cell_type": "markdown",
   "metadata": {},
   "source": [
    "### Análises"
   ]
  },
  {
   "cell_type": "code",
   "execution_count": 4,
   "metadata": {},
   "outputs": [
    {
     "name": "stdout",
     "output_type": "stream",
     "text": [
      "1. Contagem de clientes por país:\n",
      "┌─────────────┬───────────────┐\n",
      "│   Country   │ CustomerCount │\n",
      "│   varchar   │     int64     │\n",
      "├─────────────┼───────────────┤\n",
      "│ USA         │            13 │\n",
      "│ Germany     │            11 │\n",
      "│ France      │            11 │\n",
      "│ Brazil      │             9 │\n",
      "│ UK          │             7 │\n",
      "│ Spain       │             5 │\n",
      "│ Mexico      │             5 │\n",
      "│ Venezuela   │             4 │\n",
      "│ Italy       │             3 │\n",
      "│ Canada      │             3 │\n",
      "│ Argentina   │             3 │\n",
      "│ Portugal    │             2 │\n",
      "│ Sweden      │             2 │\n",
      "│ Austria     │             2 │\n",
      "│ Belgium     │             2 │\n",
      "│ Denmark     │             2 │\n",
      "│ Switzerland │             2 │\n",
      "│ NULL        │             2 │\n",
      "│ Finland     │             2 │\n",
      "│ Ireland     │             1 │\n",
      "│ Norway      │             1 │\n",
      "│ Poland      │             1 │\n",
      "├─────────────┴───────────────┤\n",
      "│ 22 rows           2 columns │\n",
      "└─────────────────────────────┘\n",
      "\n"
     ]
    }
   ],
   "source": [
    "# 1. Contagem de clientes por país\n",
    "conta_clientes = duckdb_con.sql(\"\"\"\n",
    "    SELECT Country, COUNT(*) AS CustomerCount\n",
    "    FROM Customers\n",
    "    GROUP BY Country\n",
    "    ORDER BY CustomerCount DESC\n",
    "\"\"\")\n",
    "\n",
    "print(\"1. Contagem de clientes por país:\")\n",
    "\n",
    "print(conta_clientes)"
   ]
  },
  {
   "cell_type": "code",
   "execution_count": 5,
   "metadata": {},
   "outputs": [
    {
     "name": "stdout",
     "output_type": "stream",
     "text": [
      "\n",
      "2. Contagem de funcionários por título:\n",
      "┌──────────────────────────┬───────────────┐\n",
      "│          Title           │ EmployeeCount │\n",
      "│         varchar          │     int64     │\n",
      "├──────────────────────────┼───────────────┤\n",
      "│ Sales Representative     │             6 │\n",
      "│ Sales Manager            │             1 │\n",
      "│ Inside Sales Coordinator │             1 │\n",
      "│ Vice President, Sales    │             1 │\n",
      "└──────────────────────────┴───────────────┘\n",
      "\n"
     ]
    }
   ],
   "source": [
    "# 2. Contagem de funcionários por Cargo\n",
    "funcionario_titulo = duckdb_con.sql(\"\"\"\n",
    "    SELECT Title, COUNT(*) AS EmployeeCount\n",
    "    FROM Employees\n",
    "    GROUP BY Title\n",
    "    ORDER BY EmployeeCount DESC\n",
    "\"\"\")\n",
    "\n",
    "print(\"\\n2. Contagem de funcionários por título:\")\n",
    "\n",
    "print(funcionario_titulo)"
   ]
  },
  {
   "cell_type": "code",
   "execution_count": 6,
   "metadata": {},
   "outputs": [
    {
     "name": "stdout",
     "output_type": "stream",
     "text": [
      "\n",
      "3. Receita total por cliente:\n",
      "┌────────────┬────────────────────────────────────┬────────────────────┐\n",
      "│ CustomerID │            CompanyName             │    TotalRevenue    │\n",
      "│  varchar   │              varchar               │       double       │\n",
      "├────────────┼────────────────────────────────────┼────────────────────┤\n",
      "│ BSBEV      │ B's Beverages                      │  6154115.340000002 │\n",
      "│ HUNGC      │ Hungry Coyote Import Store         │  5698023.669999998 │\n",
      "│ RANCH      │ Rancho grande                      │  5559110.080000002 │\n",
      "│ GOURL      │ Gourmet Lanchonetes                │        5552309.805 │\n",
      "│ ANATR      │ Ana Trujillo Emparedados y helados │  5534356.650000001 │\n",
      "│ RICAR      │ Ricardo Adocicados                 │  5524517.309999998 │\n",
      "│ FOLIG      │ Folies gourmandes                  │  5505502.849999996 │\n",
      "│ LETSS      │ Let's Stop N Shop                  │  5462198.022499999 │\n",
      "│ LILAS      │ LILA-Supermercado                  │         5437438.34 │\n",
      "│ PRINI      │ Princesa Isabel Vinhos             │  5436770.550000001 │\n",
      "│   ·        │           ·                        │          ·         │\n",
      "│   ·        │           ·                        │          ·         │\n",
      "│   ·        │           ·                        │          ·         │\n",
      "│ TRAIH      │ Trail's Head Gourmet Provisioners  │  4291819.960000001 │\n",
      "│ LAUGB      │ Laughing Bacchus Wine Cellars      │         4259986.34 │\n",
      "│ QUEDE      │ Que Delícia                        │         4258199.69 │\n",
      "│ AROUT      │ Around the Horn                    │  4251821.619999999 │\n",
      "│ DUMON      │ Du monde entier                    │  4236208.169999999 │\n",
      "│ REGGC      │ Reggiani Caseifici                 │  4223241.670000002 │\n",
      "│ LEHMS      │ Lehmanns Marktstand                │         4184144.45 │\n",
      "│ FURIB      │ Furia Bacalhau e Frutos do Mar     │ 4098647.7925000004 │\n",
      "│ OCEAN      │ Océano Atlántico Ltda.             │  4059079.049999999 │\n",
      "│ ALFKI      │ Alfreds Futterkiste                │ 3965464.9499999993 │\n",
      "├────────────┴────────────────────────────────────┴────────────────────┤\n",
      "│ 93 rows (20 shown)                                         3 columns │\n",
      "└──────────────────────────────────────────────────────────────────────┘\n",
      "\n"
     ]
    }
   ],
   "source": [
    "# 3. Receita total por cliente\n",
    "receita_total_cliente = duckdb_con.sql(\"\"\"\n",
    "    SELECT C.CustomerID, C.CompanyName, SUM(OD.UnitPrice * OD.Quantity * (1 - OD.Discount)) AS TotalRevenue\n",
    "    FROM Orders O\n",
    "    JOIN OrderDetails OD ON O.OrderID = OD.OrderID\n",
    "    JOIN Customers C ON O.CustomerID = C.CustomerID\n",
    "    GROUP BY C.CustomerID, C.CompanyName\n",
    "    ORDER BY TotalRevenue DESC\n",
    "\"\"\")\n",
    "\n",
    "print(\"\\n3. Receita total por cliente:\")\n",
    "\n",
    "print(receita_total_cliente)"
   ]
  },
  {
   "cell_type": "code",
   "execution_count": 7,
   "metadata": {},
   "outputs": [
    {
     "name": "stdout",
     "output_type": "stream",
     "text": [
      "\n",
      "4. Receita média por categoria de produto:\n",
      "┌────────────────┬───────────────────────┐\n",
      "│  CategoryName  │ AvgRevenuePerCategory │\n",
      "│    varchar     │        double         │\n",
      "├────────────────┼───────────────────────┤\n",
      "│ Meat/Poultry   │    1370.6802148410268 │\n",
      "│ Beverages      │      969.291925791151 │\n",
      "│ Produce        │     826.8716466066554 │\n",
      "│ Dairy Products │     732.2468767432764 │\n",
      "│ Confections    │      645.409821227039 │\n",
      "│ Condiments     │     587.3913208510555 │\n",
      "│ Seafood        │     525.9777917175913 │\n",
      "│ Grains/Cereals │     515.6774429151624 │\n",
      "└────────────────┴───────────────────────┘\n",
      "\n"
     ]
    }
   ],
   "source": [
    "# 4. Receita média por categoria de produto\n",
    "receita_media_cat  = duckdb_con.sql(\"\"\"\n",
    "    SELECT \n",
    "        C.CategoryName, \n",
    "        AVG(OD.UnitPrice * OD.Quantity * (1 - OD.Discount)) AS AvgRevenuePerCategory\n",
    "    FROM OrderDetails OD\n",
    "    JOIN Products P ON OD.ProductID = P.ProductID\n",
    "    JOIN Categories C ON P.CategoryID = C.CategoryID\n",
    "    GROUP BY C.CategoryName\n",
    "    ORDER BY AvgRevenuePerCategory DESC\n",
    "\"\"\")\n",
    "\n",
    "print(\"\\n4. Receita média por categoria de produto:\")\n",
    "\n",
    "print(receita_media_cat )"
   ]
  },
  {
   "cell_type": "code",
   "execution_count": 8,
   "metadata": {},
   "outputs": [
    {
     "name": "stdout",
     "output_type": "stream",
     "text": [
      "\n",
      "5. Número de pedidos por funcionário ao longo do tempo (cumulativo):\n",
      "┌─────────────────┬─────────────────────┬──────────────────┐\n",
      "│  EmployeeName   │      OrderDate      │ CumulativeOrders │\n",
      "│     varchar     │      timestamp      │      int64       │\n",
      "├─────────────────┼─────────────────────┼──────────────────┤\n",
      "│ Steven Buchanan │ 2012-07-11 21:17:46 │                1 │\n",
      "│ Steven Buchanan │ 2012-07-16 09:41:10 │                2 │\n",
      "│ Steven Buchanan │ 2012-07-19 13:35:20 │                3 │\n",
      "│ Steven Buchanan │ 2012-07-21 02:53:38 │                4 │\n",
      "│ Steven Buchanan │ 2012-07-23 10:41:56 │                5 │\n",
      "│ Steven Buchanan │ 2012-07-24 17:00:06 │                6 │\n",
      "│ Steven Buchanan │ 2012-07-30 01:48:16 │                7 │\n",
      "│ Steven Buchanan │ 2012-07-31 05:55:45 │                8 │\n",
      "│ Steven Buchanan │ 2012-08-01 00:41:11 │                9 │\n",
      "│ Steven Buchanan │ 2012-08-04 02:37:33 │               10 │\n",
      "│       ·         │          ·          │                · │\n",
      "│       ·         │          ·          │                · │\n",
      "│       ·         │          ·          │                · │\n",
      "│ Andrew Fuller   │ 2023-10-09 11:26:49 │             1762 │\n",
      "│ Andrew Fuller   │ 2023-10-09 17:54:26 │             1763 │\n",
      "│ Andrew Fuller   │ 2023-10-10 07:04:33 │             1764 │\n",
      "│ Andrew Fuller   │ 2023-10-10 10:56:42 │             1765 │\n",
      "│ Andrew Fuller   │ 2023-10-15 06:54:39 │             1766 │\n",
      "│ Andrew Fuller   │ 2023-10-15 12:25:36 │             1767 │\n",
      "│ Andrew Fuller   │ 2023-10-17 11:47:50 │             1768 │\n",
      "│ Andrew Fuller   │ 2023-10-20 05:26:34 │             1769 │\n",
      "│ Andrew Fuller   │ 2023-10-24 02:51:15 │             1770 │\n",
      "│ Andrew Fuller   │ 2023-10-27 06:38:44 │             1771 │\n",
      "├─────────────────┴─────────────────────┴──────────────────┤\n",
      "│ ? rows (>9999 rows, 20 shown)                  3 columns │\n",
      "└──────────────────────────────────────────────────────────┘\n",
      "\n"
     ]
    }
   ],
   "source": [
    "# 5. Número de pedidos por funcionário ao longo do tempo\n",
    "pedido_func_tempo = duckdb_con.sql(\"\"\"\n",
    "    SELECT \n",
    "        CONCAT(e.FirstName, ' ', e.LastName) AS EmployeeName, \n",
    "        o.OrderDate, \n",
    "        COUNT(o.OrderID) OVER (PARTITION BY o.EmployeeID ORDER BY o.OrderDate) AS CumulativeOrders\n",
    "    FROM Orders o\n",
    "    JOIN Employees e ON o.EmployeeID = e.EmployeeID\n",
    "\"\"\")\n",
    "\n",
    "print(\"\\n5. Número de pedidos por funcionário ao longo do tempo (cumulativo):\")\n",
    "\n",
    "print(pedido_func_tempo)"
   ]
  },
  {
   "cell_type": "code",
   "execution_count": 9,
   "metadata": {},
   "outputs": [
    {
     "name": "stdout",
     "output_type": "stream",
     "text": [
      "\n",
      "6. Clientes com mais de 10 pedidos:\n",
      "┌────────────┬────────────────────────────────────┬────────────┐\n",
      "│ CustomerID │            CompanyName             │ OrderCount │\n",
      "│  varchar   │              varchar               │   int64    │\n",
      "├────────────┼────────────────────────────────────┼────────────┤\n",
      "│ ALFKI      │ Alfreds Futterkiste                │        163 │\n",
      "│ ANATR      │ Ana Trujillo Emparedados y helados │        195 │\n",
      "│ ANTON      │ Antonio Moreno Taquería            │        163 │\n",
      "│ AROUT      │ Around the Horn                    │        156 │\n",
      "│ BERGS      │ Berglunds snabbköp                 │        178 │\n",
      "│ BLAUS      │ Blauer See Delikatessen            │        164 │\n",
      "│ BLONP      │ Blondesddsl père et fils           │        165 │\n",
      "│ BOLID      │ Bólido Comidas preparadas          │        182 │\n",
      "│ BONAP      │ Bon app'                           │        167 │\n",
      "│ BOTTM      │ Bottom-Dollar Markets              │        185 │\n",
      "│   ·        │           ·                        │         ·  │\n",
      "│   ·        │           ·                        │         ·  │\n",
      "│   ·        │           ·                        │         ·  │\n",
      "│ VINET      │ Vins et alcools Chevalier          │        158 │\n",
      "│ WANDK      │ Die Wandernde Kuh                  │        175 │\n",
      "│ WARTH      │ Wartian Herkku                     │        162 │\n",
      "│ WELLI      │ Wellington Importadora             │        185 │\n",
      "│ WHITC      │ White Clover Markets               │        183 │\n",
      "│ WILMK      │ Wilman Kala                        │        169 │\n",
      "│ WOLZA      │ Wolski  Zajazd                     │        177 │\n",
      "│ CONSH      │ Consolidated Holdings              │        180 │\n",
      "│ FOLKO      │ Folk och fä HB                     │        175 │\n",
      "│ VICTE      │ Victuailles en stock               │        188 │\n",
      "├────────────┴────────────────────────────────────┴────────────┤\n",
      "│ 93 rows (20 shown)                                 3 columns │\n",
      "└──────────────────────────────────────────────────────────────┘\n",
      "\n"
     ]
    }
   ],
   "source": [
    "# 6. Clientes com mais de 10 pedidos\n",
    "cliente_10 = duckdb_con.sql(\"\"\"\n",
    "    WITH CustomerOrders AS (\n",
    "        SELECT CustomerID, COUNT(OrderID) AS OrderCount\n",
    "        FROM Orders\n",
    "        GROUP BY CustomerID\n",
    "    )\n",
    "    SELECT C.CustomerID, C.CompanyName, CO.OrderCount\n",
    "    FROM Customers C\n",
    "    JOIN CustomerOrders CO ON C.CustomerID = CO.CustomerID\n",
    "    WHERE CO.OrderCount > 10\n",
    "\"\"\")\n",
    "\n",
    "print(\"\\n6. Clientes com mais de 10 pedidos:\")\n",
    "\n",
    "print(cliente_10)"
   ]
  },
  {
   "cell_type": "code",
   "execution_count": 10,
   "metadata": {},
   "outputs": [
    {
     "name": "stdout",
     "output_type": "stream",
     "text": [
      "\n",
      "7. Receita total e média por mês:\n",
      "┌────────────┬────────────────────┬────────────────────┐\n",
      "│ OrderMonth │    TotalRevenue    │     AvgRevenue     │\n",
      "│  varchar   │       double       │       double       │\n",
      "├────────────┼────────────────────┼────────────────────┤\n",
      "│ 2012-07    │ 2066219.4000000004 │ 2066219.4000000004 │\n",
      "│ 2012-08    │         3556875.79 │        2811547.595 │\n",
      "│ 2012-09    │ 3440144.9800000004 │  3021080.056666667 │\n",
      "│ 2012-10    │ 3201529.9599999995 │       3066192.5325 │\n",
      "│ 2012-11    │ 2980494.7399999998 │ 3049052.9740000004 │\n",
      "│ 2012-12    │ 3577936.8500000006 │  3137200.286666667 │\n",
      "│ 2013-01    │         3075418.29 │ 3128374.2871428574 │\n",
      "│ 2013-02    │ 2964192.8599999994 │      3107851.60875 │\n",
      "│ 2013-03    │ 3471361.2099999995 │ 3148241.5644444446 │\n",
      "│ 2013-04    │ 3262893.5199999996 │ 3159706.7600000002 │\n",
      "│    ·       │              ·     │          ·         │\n",
      "│    ·       │              ·     │          ·         │\n",
      "│    ·       │              ·     │          ·         │\n",
      "│ 2023-01    │         3171802.16 │ 3295306.6561377966 │\n",
      "│ 2023-02    │ 2611606.1599999997 │  3289965.246011719 │\n",
      "│ 2023-03    │  3716250.410000001 │ 3293269.7821666673 │\n",
      "│ 2023-04    │ 3474940.2999999993 │  3294667.247688462 │\n",
      "│ 2023-05    │ 3896544.3499999987 │  3299261.729385497 │\n",
      "│ 2023-06    │ 3071787.7300000004 │ 3297538.4415113647 │\n",
      "│ 2023-07    │  3350337.359999999 │  3297935.425860903 │\n",
      "│ 2023-08    │         3293158.67 │  3297899.778429106 │\n",
      "│ 2023-09    │  3544698.510000001 │ 3299727.9171814825 │\n",
      "│ 2023-10    │ 2923364.3499999996 │ 3296960.5380110308 │\n",
      "├────────────┴────────────────────┴────────────────────┤\n",
      "│ 136 rows (20 shown)                        3 columns │\n",
      "└──────────────────────────────────────────────────────┘\n",
      "\n"
     ]
    }
   ],
   "source": [
    "# 7. Receita total e média por mês\n",
    "receita_total_media = duckdb_con.sql(\"\"\"\n",
    "    SELECT \n",
    "        strftime('%Y-%m', CAST(OrderDate AS DATE)) AS OrderMonth, \n",
    "        SUM(UnitPrice * Quantity * (1 - Discount)) AS TotalRevenue,\n",
    "        AVG(SUM(UnitPrice * Quantity * (1 - Discount))) OVER (ORDER BY strftime('%Y-%m', CAST(OrderDate AS DATE))) AS AvgRevenue\n",
    "    FROM OrderDetails\n",
    "    JOIN Orders ON OrderDetails.OrderID = Orders.OrderID\n",
    "    GROUP BY OrderMonth\n",
    "    ORDER BY OrderMonth\n",
    "\"\"\")\n",
    "\n",
    "print(\"\\n7. Receita total e média por mês:\")\n",
    "\n",
    "print(receita_total_media)"
   ]
  },
  {
   "cell_type": "code",
   "execution_count": 11,
   "metadata": {},
   "outputs": [
    {
     "name": "stdout",
     "output_type": "stream",
     "text": [
      "\n",
      "8. Melhor mês de vendas para cada funcionário:\n",
      "┌──────────────────┬────────────┬───────────────────┐\n",
      "│   EmployeeName   │ OrderMonth │  MonthlyRevenue   │\n",
      "│     varchar      │  varchar   │      double       │\n",
      "├──────────────────┼────────────┼───────────────────┤\n",
      "│ Laura Callahan   │ 2016-05    │         867720.25 │\n",
      "│ Steven Buchanan  │ 2023-07    │ 726352.1699999999 │\n",
      "│ Anne Dodsworth   │ 2013-07    │ 686016.5300000001 │\n",
      "│ Andrew Fuller    │ 2017-11    │         627003.55 │\n",
      "│ Nancy Davolio    │ 2014-05    │         626065.04 │\n",
      "│ Robert King      │ 2020-08    │ 730154.9199999999 │\n",
      "│ Margaret Peacock │ 2020-09    │ 701766.1100000001 │\n",
      "│ Janet Leverling  │ 2013-12    │ 755028.3200000001 │\n",
      "│ Michael Suyama   │ 2015-10    │ 641155.5099999999 │\n",
      "└──────────────────┴────────────┴───────────────────┘\n",
      "\n"
     ]
    }
   ],
   "source": [
    "# 8. Melhor mês de vendas para cada funcionário\n",
    "melhor_mes_func = duckdb_con.sql(\"\"\"\n",
    "    WITH MonthlySales AS (\n",
    "        SELECT \n",
    "            o.EmployeeID, \n",
    "            strftime('%Y-%m', CAST(o.OrderDate AS DATE)) AS OrderMonth, \n",
    "            SUM(od.UnitPrice * od.Quantity * (1 - od.Discount)) AS MonthlyRevenue\n",
    "        FROM Orders o\n",
    "        JOIN OrderDetails od ON o.OrderID = od.OrderID\n",
    "        GROUP BY o.EmployeeID, OrderMonth\n",
    "    ),\n",
    "    RankedSales AS (\n",
    "        SELECT \n",
    "            e.EmployeeID,\n",
    "            CONCAT(e.FirstName, ' ', e.LastName) AS EmployeeName, \n",
    "            ms.OrderMonth, \n",
    "            ms.MonthlyRevenue,\n",
    "            RANK() OVER (PARTITION BY e.EmployeeID ORDER BY ms.MonthlyRevenue DESC) AS Rank\n",
    "        FROM MonthlySales ms\n",
    "        JOIN Employees e ON ms.EmployeeID = e.EmployeeID\n",
    "    )\n",
    "    SELECT EmployeeName, OrderMonth, MonthlyRevenue\n",
    "    FROM RankedSales\n",
    "    WHERE Rank = 1\n",
    "\"\"\")\n",
    "\n",
    "print(\"\\n8. Melhor mês de vendas para cada funcionário:\")\n",
    "\n",
    "print(melhor_mes_func)"
   ]
  },
  {
   "cell_type": "markdown",
   "metadata": {},
   "source": [
    "### Fechar Conexão SQLite"
   ]
  },
  {
   "cell_type": "code",
   "execution_count": 12,
   "metadata": {},
   "outputs": [],
   "source": [
    "sqlite_con.close()"
   ]
  },
  {
   "cell_type": "markdown",
   "metadata": {},
   "source": [
    "### Persistir Consultas no Duckdb (DW)"
   ]
  },
  {
   "cell_type": "code",
   "execution_count": 13,
   "metadata": {},
   "outputs": [],
   "source": [
    "duckdb_con = duckdb.connect('dw.duckdb')\n",
    "\n",
    "conta_clientes_df = conta_clientes.df()\n",
    "duckdb_con.register('conta_clientes_df', conta_clientes_df)\n",
    "duckdb_con.execute(\"CREATE TABLE conta_clientes AS SELECT * FROM conta_clientes_df\")\n",
    "\n",
    "funcionario_titulo_df = funcionario_titulo.df()\n",
    "duckdb_con.register('funcionario_titulo_df', funcionario_titulo_df)\n",
    "duckdb_con.execute(\"CREATE TABLE funcionario_titulo AS SELECT * FROM funcionario_titulo_df\")\n",
    "\n",
    "receita_total_cliente_df = receita_total_cliente.df()\n",
    "duckdb_con.register('receita_total_cliente_df', receita_total_cliente_df)\n",
    "duckdb_con.execute(\"CREATE TABLE receita_total_cliente AS SELECT * FROM receita_total_cliente_df\")\n",
    "\n",
    "receita_media_cat_df = receita_media_cat.df()\n",
    "duckdb_con.register('receita_media_cat_df', receita_media_cat_df)\n",
    "duckdb_con.execute(\"CREATE TABLE receita_media_cat AS SELECT * FROM receita_media_cat_df\")\n",
    "\n",
    "pedido_func_tempo_df = pedido_func_tempo.df()\n",
    "duckdb_con.register('pedido_func_tempo_df', pedido_func_tempo_df)\n",
    "duckdb_con.execute(\"CREATE TABLE pedido_func_tempo AS SELECT * FROM pedido_func_tempo_df\")\n",
    "\n",
    "cliente_10_df = cliente_10.df()\n",
    "duckdb_con.register('cliente_10_df', cliente_10_df)\n",
    "duckdb_con.execute(\"CREATE TABLE cliente_10 AS SELECT * FROM cliente_10_df\")\n",
    "\n",
    "receita_total_media_df = receita_total_media.df()\n",
    "duckdb_con.register('receita_total_media_df', receita_total_media_df)\n",
    "duckdb_con.execute(\"CREATE TABLE receita_total_media AS SELECT * FROM receita_total_media_df\")\n",
    "\n",
    "melhor_mes_func_df = melhor_mes_func.df()\n",
    "duckdb_con.register('melhor_mes_func_df', melhor_mes_func_df)\n",
    "duckdb_con.execute(\"CREATE TABLE melhor_mes_func AS SELECT * FROM melhor_mes_func_df\")\n",
    "\n",
    "# Fechar a conexão\n",
    "duckdb_con.close()"
   ]
  },
  {
   "cell_type": "code",
   "execution_count": 17,
   "metadata": {},
   "outputs": [
    {
     "name": "stdout",
     "output_type": "stream",
     "text": [
      "┌─────────────┬───────────────┐\n",
      "│   Country   │ CustomerCount │\n",
      "│   varchar   │     int64     │\n",
      "├─────────────┼───────────────┤\n",
      "│ USA         │            13 │\n",
      "│ France      │            11 │\n",
      "│ Germany     │            11 │\n",
      "│ Brazil      │             9 │\n",
      "│ UK          │             7 │\n",
      "│ Mexico      │             5 │\n",
      "│ Spain       │             5 │\n",
      "│ Venezuela   │             4 │\n",
      "│ Canada      │             3 │\n",
      "│ Argentina   │             3 │\n",
      "│ Italy       │             3 │\n",
      "│ Denmark     │             2 │\n",
      "│ Finland     │             2 │\n",
      "│ Portugal    │             2 │\n",
      "│ Sweden      │             2 │\n",
      "│ Austria     │             2 │\n",
      "│ Belgium     │             2 │\n",
      "│ NULL        │             2 │\n",
      "│ Switzerland │             2 │\n",
      "│ Poland      │             1 │\n",
      "│ Ireland     │             1 │\n",
      "│ Norway      │             1 │\n",
      "├─────────────┴───────────────┤\n",
      "│ 22 rows           2 columns │\n",
      "└─────────────────────────────┘\n",
      "\n"
     ]
    }
   ],
   "source": [
    "duckdb_con = duckdb.connect('dw.duckdb')\n",
    "\n",
    "select_ = duckdb_con.sql(\"SELECT * FROM conta_clientes\")\n",
    "\n",
    "print(select_)\n",
    "\n",
    "duckdb_con.close()"
   ]
  },
  {
   "cell_type": "code",
   "execution_count": null,
   "metadata": {},
   "outputs": [],
   "source": []
  },
  {
   "cell_type": "code",
   "execution_count": null,
   "metadata": {},
   "outputs": [],
   "source": []
  },
  {
   "cell_type": "code",
   "execution_count": null,
   "metadata": {},
   "outputs": [],
   "source": []
  },
  {
   "cell_type": "code",
   "execution_count": null,
   "metadata": {},
   "outputs": [],
   "source": []
  },
  {
   "cell_type": "code",
   "execution_count": null,
   "metadata": {},
   "outputs": [],
   "source": []
  },
  {
   "cell_type": "code",
   "execution_count": null,
   "metadata": {},
   "outputs": [],
   "source": []
  },
  {
   "cell_type": "code",
   "execution_count": null,
   "metadata": {},
   "outputs": [],
   "source": []
  },
  {
   "cell_type": "code",
   "execution_count": null,
   "metadata": {},
   "outputs": [],
   "source": []
  },
  {
   "cell_type": "code",
   "execution_count": null,
   "metadata": {},
   "outputs": [],
   "source": []
  },
  {
   "cell_type": "code",
   "execution_count": null,
   "metadata": {},
   "outputs": [],
   "source": []
  },
  {
   "cell_type": "code",
   "execution_count": null,
   "metadata": {},
   "outputs": [],
   "source": []
  },
  {
   "cell_type": "code",
   "execution_count": null,
   "metadata": {},
   "outputs": [],
   "source": []
  },
  {
   "cell_type": "code",
   "execution_count": null,
   "metadata": {},
   "outputs": [],
   "source": []
  },
  {
   "cell_type": "code",
   "execution_count": null,
   "metadata": {},
   "outputs": [],
   "source": []
  },
  {
   "cell_type": "code",
   "execution_count": null,
   "metadata": {},
   "outputs": [],
   "source": []
  },
  {
   "cell_type": "code",
   "execution_count": null,
   "metadata": {},
   "outputs": [],
   "source": []
  },
  {
   "cell_type": "code",
   "execution_count": null,
   "metadata": {},
   "outputs": [],
   "source": []
  },
  {
   "cell_type": "code",
   "execution_count": null,
   "metadata": {},
   "outputs": [],
   "source": []
  }
 ],
 "metadata": {
  "kernelspec": {
   "display_name": "venv",
   "language": "python",
   "name": "python3"
  },
  "language_info": {
   "codemirror_mode": {
    "name": "ipython",
    "version": 3
   },
   "file_extension": ".py",
   "mimetype": "text/x-python",
   "name": "python",
   "nbconvert_exporter": "python",
   "pygments_lexer": "ipython3",
   "version": "3.11.10"
  }
 },
 "nbformat": 4,
 "nbformat_minor": 2
}
