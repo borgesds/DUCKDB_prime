{
 "cells": [
  {
   "cell_type": "code",
   "execution_count": 1,
   "metadata": {},
   "outputs": [],
   "source": [
    "import sqlite3\n",
    "import duckdb\n",
    "import pandas as pd"
   ]
  },
  {
   "cell_type": "markdown",
   "metadata": {},
   "source": [
    "### Conexão e Teste"
   ]
  },
  {
   "cell_type": "code",
   "execution_count": 2,
   "metadata": {},
   "outputs": [
    {
     "name": "stdout",
     "output_type": "stream",
     "text": [
      "\n",
      "Exemplo de dados da tabela 'Customers':\n",
      "  CustomerID                         CompanyName         ContactName  \\\n",
      "0      ALFKI                 Alfreds Futterkiste        Maria Anders   \n",
      "1      ANATR  Ana Trujillo Emparedados y helados        Ana Trujillo   \n",
      "2      ANTON             Antonio Moreno Taquería      Antonio Moreno   \n",
      "3      AROUT                     Around the Horn        Thomas Hardy   \n",
      "4      BERGS                  Berglunds snabbköp  Christina Berglund   \n",
      "\n",
      "           ContactTitle                        Address         City  \\\n",
      "0  Sales Representative                  Obere Str. 57       Berlin   \n",
      "1                 Owner  Avda. de la Constitución 2222  México D.F.   \n",
      "2                 Owner                Mataderos  2312  México D.F.   \n",
      "3  Sales Representative                120 Hanover Sq.       London   \n",
      "4   Order Administrator                Berguvsvägen  8        Luleå   \n",
      "\n",
      "            Region PostalCode  Country           Phone             Fax  \n",
      "0   Western Europe      12209  Germany     030-0074321     030-0076545  \n",
      "1  Central America      05021   Mexico    (5) 555-4729    (5) 555-3745  \n",
      "2  Central America      05023   Mexico    (5) 555-3932            None  \n",
      "3    British Isles    WA1 1DP       UK  (171) 555-7788  (171) 555-6750  \n",
      "4  Northern Europe   S-958 22   Sweden   0921-12 34 65   0921-12 34 67  \n"
     ]
    }
   ],
   "source": [
    "sqlite_con = sqlite3.connect('data/northwind.db')\n",
    "\n",
    "df_customers = pd.read_sql_query(\"SELECT * FROM Customers LIMIT 5\", sqlite_con)\n",
    "\n",
    "sqlite_con.close()\n",
    "\n",
    "print(\"\\nExemplo de dados da tabela 'Customers':\")\n",
    "\n",
    "print(df_customers)"
   ]
  },
  {
   "cell_type": "markdown",
   "metadata": {},
   "source": [
    "### Criar Tabelas Duckdb em memória"
   ]
  },
  {
   "cell_type": "code",
   "execution_count": 3,
   "metadata": {},
   "outputs": [
    {
     "data": {
      "text/plain": [
       "<duckdb.duckdb.DuckDBPyConnection at 0x7f11fc0c59b0>"
      ]
     },
     "execution_count": 3,
     "metadata": {},
     "output_type": "execute_result"
    }
   ],
   "source": [
    "duckdb_con = duckdb.connect(database=':memory:')\n",
    "\n",
    "duckdb_con.execute(\"CREATE TABLE Customers AS SELECT * FROM sqlite_scan('data/northwind.db', 'Customers')\")\n",
    "duckdb_con.execute(\"CREATE TABLE Employees AS SELECT * FROM sqlite_scan('data/northwind.db', 'Employees')\")\n",
    "duckdb_con.execute(\"CREATE TABLE Orders AS SELECT * FROM sqlite_scan('data/northwind.db', 'Orders')\")\n",
    "duckdb_con.execute(\"CREATE TABLE OrderDetails AS SELECT * FROM sqlite_scan('data/northwind.db', 'Order Details')\")\n",
    "duckdb_con.execute(\"CREATE TABLE Products AS SELECT * FROM sqlite_scan('data/northwind.db', 'Products')\")\n",
    "duckdb_con.execute(\"CREATE TABLE Categories AS SELECT * FROM sqlite_scan('data/northwind.db', 'Categories')\")"
   ]
  },
  {
   "cell_type": "markdown",
   "metadata": {},
   "source": [
    "### Análises"
   ]
  },
  {
   "cell_type": "code",
   "execution_count": 4,
   "metadata": {},
   "outputs": [
    {
     "name": "stdout",
     "output_type": "stream",
     "text": [
      "1. Contagem de clientes por país:\n",
      "┌─────────────┬───────────────┐\n",
      "│   Country   │ CustomerCount │\n",
      "│   varchar   │     int64     │\n",
      "├─────────────┼───────────────┤\n",
      "│ USA         │            13 │\n",
      "│ France      │            11 │\n",
      "│ Germany     │            11 │\n",
      "│ Brazil      │             9 │\n",
      "│ UK          │             7 │\n",
      "│ Spain       │             5 │\n",
      "│ Mexico      │             5 │\n",
      "│ Venezuela   │             4 │\n",
      "│ Italy       │             3 │\n",
      "│ Canada      │             3 │\n",
      "│ Argentina   │             3 │\n",
      "│ Denmark     │             2 │\n",
      "│ Portugal    │             2 │\n",
      "│ NULL        │             2 │\n",
      "│ Finland     │             2 │\n",
      "│ Switzerland │             2 │\n",
      "│ Austria     │             2 │\n",
      "│ Belgium     │             2 │\n",
      "│ Sweden      │             2 │\n",
      "│ Poland      │             1 │\n",
      "│ Ireland     │             1 │\n",
      "│ Norway      │             1 │\n",
      "├─────────────┴───────────────┤\n",
      "│ 22 rows           2 columns │\n",
      "└─────────────────────────────┘\n",
      "\n"
     ]
    }
   ],
   "source": [
    "# 1. Contagem de clientes por país\n",
    "conta_clientes = duckdb_con.sql(\"\"\"\n",
    "    SELECT Country, COUNT(*) AS CustomerCount\n",
    "    FROM Customers\n",
    "    GROUP BY Country\n",
    "    ORDER BY CustomerCount DESC\n",
    "\"\"\")\n",
    "\n",
    "print(\"1. Contagem de clientes por país:\")\n",
    "\n",
    "print(conta_clientes)"
   ]
  },
  {
   "cell_type": "code",
   "execution_count": 5,
   "metadata": {},
   "outputs": [
    {
     "name": "stdout",
     "output_type": "stream",
     "text": [
      "\n",
      "2. Contagem de funcionários por título:\n",
      "┌──────────────────────────┬───────────────┐\n",
      "│          Title           │ EmployeeCount │\n",
      "│         varchar          │     int64     │\n",
      "├──────────────────────────┼───────────────┤\n",
      "│ Sales Representative     │             6 │\n",
      "│ Sales Manager            │             1 │\n",
      "│ Vice President, Sales    │             1 │\n",
      "│ Inside Sales Coordinator │             1 │\n",
      "└──────────────────────────┴───────────────┘\n",
      "\n"
     ]
    }
   ],
   "source": [
    "# 2. Contagem de funcionários por Cargo\n",
    "funcionario_titulo = duckdb_con.sql(\"\"\"\n",
    "    SELECT Title, COUNT(*) AS EmployeeCount\n",
    "    FROM Employees\n",
    "    GROUP BY Title\n",
    "    ORDER BY EmployeeCount DESC\n",
    "\"\"\")\n",
    "\n",
    "print(\"\\n2. Contagem de funcionários por título:\")\n",
    "\n",
    "print(funcionario_titulo)"
   ]
  },
  {
   "cell_type": "code",
   "execution_count": null,
   "metadata": {},
   "outputs": [],
   "source": [
    "# 3. Receita total por cliente\n",
    "receita_total_cliente = duckdb_con.sql(\"\"\"\n",
    "    SELECT C.CustomerID, C.CompanyName, SUM(OD.UnitPrice * OD.Quantity * (1 - OD.Discount)) AS TotalRevenue\n",
    "    FROM Orders O\n",
    "    JOIN OrderDetails OD ON O.OrderID = OD.OrderID\n",
    "    JOIN Customers C ON O.CustomerID = C.CustomerID\n",
    "    GROUP BY C.CustomerID, C.CompanyName\n",
    "    ORDER BY TotalRevenue DESC\n",
    "\"\"\")\n",
    "\n",
    "print(\"\\n3. Receita total por cliente:\")\n",
    "\n",
    "print(receita_total_cliente)"
   ]
  },
  {
   "cell_type": "code",
   "execution_count": null,
   "metadata": {},
   "outputs": [],
   "source": []
  },
  {
   "cell_type": "code",
   "execution_count": null,
   "metadata": {},
   "outputs": [],
   "source": []
  },
  {
   "cell_type": "code",
   "execution_count": null,
   "metadata": {},
   "outputs": [],
   "source": []
  },
  {
   "cell_type": "code",
   "execution_count": null,
   "metadata": {},
   "outputs": [],
   "source": []
  },
  {
   "cell_type": "code",
   "execution_count": null,
   "metadata": {},
   "outputs": [],
   "source": []
  },
  {
   "cell_type": "code",
   "execution_count": null,
   "metadata": {},
   "outputs": [],
   "source": []
  },
  {
   "cell_type": "code",
   "execution_count": null,
   "metadata": {},
   "outputs": [],
   "source": []
  },
  {
   "cell_type": "code",
   "execution_count": null,
   "metadata": {},
   "outputs": [],
   "source": []
  },
  {
   "cell_type": "code",
   "execution_count": null,
   "metadata": {},
   "outputs": [],
   "source": []
  },
  {
   "cell_type": "code",
   "execution_count": null,
   "metadata": {},
   "outputs": [],
   "source": []
  },
  {
   "cell_type": "code",
   "execution_count": null,
   "metadata": {},
   "outputs": [],
   "source": []
  },
  {
   "cell_type": "code",
   "execution_count": null,
   "metadata": {},
   "outputs": [],
   "source": []
  },
  {
   "cell_type": "code",
   "execution_count": null,
   "metadata": {},
   "outputs": [],
   "source": []
  },
  {
   "cell_type": "code",
   "execution_count": null,
   "metadata": {},
   "outputs": [],
   "source": []
  },
  {
   "cell_type": "code",
   "execution_count": null,
   "metadata": {},
   "outputs": [],
   "source": []
  },
  {
   "cell_type": "code",
   "execution_count": null,
   "metadata": {},
   "outputs": [],
   "source": []
  }
 ],
 "metadata": {
  "kernelspec": {
   "display_name": "venv",
   "language": "python",
   "name": "python3"
  },
  "language_info": {
   "codemirror_mode": {
    "name": "ipython",
    "version": 3
   },
   "file_extension": ".py",
   "mimetype": "text/x-python",
   "name": "python",
   "nbconvert_exporter": "python",
   "pygments_lexer": "ipython3",
   "version": "3.11.10"
  }
 },
 "nbformat": 4,
 "nbformat_minor": 2
}
