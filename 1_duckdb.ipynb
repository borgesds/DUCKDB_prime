{
 "cells": [
  {
   "cell_type": "code",
   "execution_count": 1,
   "metadata": {},
   "outputs": [],
   "source": [
    "import duckdb\n",
    "import pandas as pd"
   ]
  },
  {
   "cell_type": "markdown",
   "metadata": {},
   "source": [
    "### CSV em memoria"
   ]
  },
  {
   "cell_type": "code",
   "execution_count": null,
   "metadata": {},
   "outputs": [
    {
     "name": "stdout",
     "output_type": "stream",
     "text": [
      "┌─────────┬────────────────┬───────┬─────────────────┬───────────────┐\n",
      "│ user_id │      name      │  age  │ purchase_amount │ purchase_date │\n",
      "│  int64  │    varchar     │ int64 │     double      │     date      │\n",
      "├─────────┼────────────────┼───────┼─────────────────┼───────────────┤\n",
      "│     101 │ John Doe       │    28 │          250.75 │ 2024-08-01    │\n",
      "│     102 │ Jane Smith     │    34 │           300.0 │ 2024-08-02    │\n",
      "│     103 │ Alice Johnson  │    23 │           120.5 │ 2024-08-03    │\n",
      "│     104 │ Chris Evans    │    45 │           450.0 │ 2024-08-04    │\n",
      "│     105 │ Emily Davis    │    30 │            80.0 │ 2024-08-05    │\n",
      "│     106 │ Michael Brown  │    40 │          199.99 │ 2024-08-06    │\n",
      "│     107 │ Jessica Taylor │    29 │          349.99 │ 2024-08-07    │\n",
      "│     108 │ Daniel Wilson  │    35 │           220.0 │ 2024-08-08    │\n",
      "│     109 │ Laura Clark    │    27 │          110.75 │ 2024-08-09    │\n",
      "│     110 │ Robert Lewis   │    31 │           500.0 │ 2024-08-10    │\n",
      "├─────────┴────────────────┴───────┴─────────────────┴───────────────┤\n",
      "│ 10 rows                                                  5 columns │\n",
      "└────────────────────────────────────────────────────────────────────┘\n",
      "\n"
     ]
    }
   ],
   "source": [
    "# duckdb em memoria\n",
    "con = duckdb.connect(database=':memory')\n",
    "\n",
    "# importar arquivos csv\n",
    "con.execute(\"CREATE TABLE my_table AS SELECT * FROM read_csv_auto('data/data.csv')\")\n",
    "\n",
    "# Realizar algumas consultas \n",
    "result_df = con.sql(\"SELECT * FROM my_table LIMIT 10\")\n",
    "\n",
    "# Exibir o resultado em formato de DataFrame\n",
    "print(result_df)\n",
    "\n",
    "# Fechar a conexão\n",
    "con.close()"
   ]
  },
  {
   "cell_type": "markdown",
   "metadata": {},
   "source": [
    "### Json em memoria"
   ]
  },
  {
   "cell_type": "code",
   "execution_count": 3,
   "metadata": {},
   "outputs": [
    {
     "name": "stdout",
     "output_type": "stream",
     "text": [
      "┌─────────┬────────────────┬───────┬─────────────────┬───────────────┐\n",
      "│ user_id │      name      │  age  │ purchase_amount │ purchase_date │\n",
      "│  int64  │    varchar     │ int64 │     double      │     date      │\n",
      "├─────────┼────────────────┼───────┼─────────────────┼───────────────┤\n",
      "│     101 │ John Doe       │    28 │          250.75 │ 2024-08-01    │\n",
      "│     102 │ Jane Smith     │    34 │           300.0 │ 2024-08-02    │\n",
      "│     103 │ Alice Johnson  │    23 │           120.5 │ 2024-08-03    │\n",
      "│     104 │ Chris Evans    │    45 │           450.0 │ 2024-08-04    │\n",
      "│     105 │ Emily Davis    │    30 │            80.0 │ 2024-08-05    │\n",
      "│     106 │ Michael Brown  │    40 │          199.99 │ 2024-08-06    │\n",
      "│     107 │ Jessica Taylor │    29 │          349.99 │ 2024-08-07    │\n",
      "│     108 │ Daniel Wilson  │    35 │           220.0 │ 2024-08-08    │\n",
      "│     109 │ Laura Clark    │    27 │          110.75 │ 2024-08-09    │\n",
      "│     110 │ Robert Lewis   │    31 │           500.0 │ 2024-08-10    │\n",
      "├─────────┴────────────────┴───────┴─────────────────┴───────────────┤\n",
      "│ 10 rows                                                  5 columns │\n",
      "└────────────────────────────────────────────────────────────────────┘\n",
      "\n"
     ]
    }
   ],
   "source": [
    "# Conectar ao DuckDB\n",
    "con = duckdb.connect(database=':memory:')\n",
    "\n",
    "# Importar um arquivo JSON para DuckDB\n",
    "con.execute(\"CREATE TABLE json_table AS SELECT * FROM read_json_auto('data/data.json')\")\n",
    "\n",
    "# Realizar algumas consultas \n",
    "result_df = con.sql(\"SELECT * FROM json_table\")\n",
    "\n",
    "# Exibir o resultado em formato de DataFrame\n",
    "print(result_df)\n",
    "\n",
    "# Fechar a conexão\n",
    "con.close()"
   ]
  },
  {
   "cell_type": "markdown",
   "metadata": {},
   "source": [
    "### Parquet em memoria"
   ]
  },
  {
   "cell_type": "code",
   "execution_count": 4,
   "metadata": {},
   "outputs": [
    {
     "name": "stdout",
     "output_type": "stream",
     "text": [
      "┌─────────┬────────────────┬───────┬─────────────────┬───────────────┐\n",
      "│ user_id │      name      │  age  │ purchase_amount │ purchase_date │\n",
      "│  int64  │    varchar     │ int64 │     double      │    varchar    │\n",
      "├─────────┼────────────────┼───────┼─────────────────┼───────────────┤\n",
      "│     101 │ John Doe       │    28 │          250.75 │ 2024-08-01    │\n",
      "│     102 │ Jane Smith     │    34 │           300.0 │ 2024-08-02    │\n",
      "│     103 │ Alice Johnson  │    23 │           120.5 │ 2024-08-03    │\n",
      "│     104 │ Chris Evans    │    45 │           450.0 │ 2024-08-04    │\n",
      "│     105 │ Emily Davis    │    30 │            80.0 │ 2024-08-05    │\n",
      "│     106 │ Michael Brown  │    40 │          199.99 │ 2024-08-06    │\n",
      "│     107 │ Jessica Taylor │    29 │          349.99 │ 2024-08-07    │\n",
      "│     108 │ Daniel Wilson  │    35 │           220.0 │ 2024-08-08    │\n",
      "│     109 │ Laura Clark    │    27 │          110.75 │ 2024-08-09    │\n",
      "│     110 │ Robert Lewis   │    31 │           500.0 │ 2024-08-10    │\n",
      "├─────────┴────────────────┴───────┴─────────────────┴───────────────┤\n",
      "│ 10 rows                                                  5 columns │\n",
      "└────────────────────────────────────────────────────────────────────┘\n",
      "\n"
     ]
    }
   ],
   "source": [
    "# Conectar ao DuckDB\n",
    "con = duckdb.connect(database=':memory:')\n",
    "\n",
    "# Importar um arquivo Parquet para DuckDB\n",
    "con.execute(\"CREATE TABLE parquet_table AS SELECT * FROM read_parquet('data/data.parquet')\")\n",
    "\n",
    "# Realizar algumas consultas \n",
    "result_df = con.sql(\"SELECT * FROM parquet_table\")\n",
    "\n",
    "# Exibir o resultado em formato de DataFrame\n",
    "print(result_df)\n",
    "\n",
    "# Fechar a conexão\n",
    "con.close()"
   ]
  },
  {
   "cell_type": "markdown",
   "metadata": {},
   "source": [
    "### Lendo pelo Pandas"
   ]
  },
  {
   "cell_type": "code",
   "execution_count": 5,
   "metadata": {},
   "outputs": [
    {
     "name": "stdout",
     "output_type": "stream",
     "text": [
      "┌─────────┬───────────────┬─────────────────┐\n",
      "│ user_id │     name      │ purchase_amount │\n",
      "│  int64  │    varchar    │     double      │\n",
      "├─────────┼───────────────┼─────────────────┤\n",
      "│       1 │ John Doe      │          250.75 │\n",
      "│       2 │ Jane Smith    │           300.0 │\n",
      "│       3 │ Alice Johnson │           120.5 │\n",
      "│       4 │ Chris Evans   │           450.0 │\n",
      "└─────────┴───────────────┴─────────────────┘\n",
      "\n"
     ]
    }
   ],
   "source": [
    "# DataFrame do Pandas\n",
    "df = pd.DataFrame({\n",
    "    'user_id': [1, 2, 3, 4, 5],\n",
    "    'name': ['John Doe', 'Jane Smith', 'Alice Johnson', 'Chris Evans', 'Emily Davis'],\n",
    "    'age': [28, 34, 23, 45, 30],\n",
    "    'purchase_amount': [250.75, 300.00, 120.50, 450.00, 80.00],\n",
    "    'purchase_date': ['2024-08-01', '2024-08-02', '2024-08-03', '2024-08-04', '2024-08-05']\n",
    "})\n",
    "\n",
    "# Conectar ao DuckDB\n",
    "con = duckdb.connect(database=':memory:')\n",
    "\n",
    "# Registrar o DataFrame\n",
    "con.register('my_df', df)\n",
    "\n",
    "# Realizar consultas SQL \n",
    "result_df = con.sql(\"SELECT user_id, name, purchase_amount FROM my_df WHERE purchase_amount > 100\")\n",
    "\n",
    "# Exibir o resultado \n",
    "print(result_df)"
   ]
  },
  {
   "cell_type": "markdown",
   "metadata": {},
   "source": [
    "### Magic"
   ]
  },
  {
   "cell_type": "code",
   "execution_count": 6,
   "metadata": {},
   "outputs": [],
   "source": [
    "%load_ext magic_duckdb"
   ]
  },
  {
   "cell_type": "code",
   "execution_count": 7,
   "metadata": {},
   "outputs": [
    {
     "data": {
      "text/html": [
       "<div>\n",
       "<style scoped>\n",
       "    .dataframe tbody tr th:only-of-type {\n",
       "        vertical-align: middle;\n",
       "    }\n",
       "\n",
       "    .dataframe tbody tr th {\n",
       "        vertical-align: top;\n",
       "    }\n",
       "\n",
       "    .dataframe thead th {\n",
       "        text-align: right;\n",
       "    }\n",
       "</style>\n",
       "<table border=\"1\" class=\"dataframe\">\n",
       "  <thead>\n",
       "    <tr style=\"text-align: right;\">\n",
       "      <th></th>\n",
       "      <th>user_id</th>\n",
       "      <th>name</th>\n",
       "      <th>age</th>\n",
       "      <th>purchase_amount</th>\n",
       "      <th>purchase_date</th>\n",
       "    </tr>\n",
       "  </thead>\n",
       "  <tbody>\n",
       "    <tr>\n",
       "      <th>0</th>\n",
       "      <td>1</td>\n",
       "      <td>John Doe</td>\n",
       "      <td>28</td>\n",
       "      <td>250.75</td>\n",
       "      <td>2024-08-01</td>\n",
       "    </tr>\n",
       "  </tbody>\n",
       "</table>\n",
       "</div>"
      ],
      "text/plain": [
       "   user_id      name  age  purchase_amount purchase_date\n",
       "0        1  John Doe   28           250.75    2024-08-01"
      ]
     },
     "execution_count": 7,
     "metadata": {},
     "output_type": "execute_result"
    }
   ],
   "source": [
    "%%dql\n",
    "SELECT *\n",
    "FROM df WHERE name = 'John Doe'"
   ]
  },
  {
   "cell_type": "code",
   "execution_count": 8,
   "metadata": {},
   "outputs": [],
   "source": [
    "con.close()"
   ]
  },
  {
   "cell_type": "code",
   "execution_count": null,
   "metadata": {},
   "outputs": [],
   "source": []
  },
  {
   "cell_type": "code",
   "execution_count": null,
   "metadata": {},
   "outputs": [],
   "source": []
  },
  {
   "cell_type": "code",
   "execution_count": null,
   "metadata": {},
   "outputs": [],
   "source": []
  },
  {
   "cell_type": "code",
   "execution_count": null,
   "metadata": {},
   "outputs": [],
   "source": []
  },
  {
   "cell_type": "code",
   "execution_count": null,
   "metadata": {},
   "outputs": [],
   "source": []
  },
  {
   "cell_type": "code",
   "execution_count": null,
   "metadata": {},
   "outputs": [],
   "source": []
  },
  {
   "cell_type": "code",
   "execution_count": null,
   "metadata": {},
   "outputs": [],
   "source": []
  }
 ],
 "metadata": {
  "kernelspec": {
   "display_name": "venv",
   "language": "python",
   "name": "python3"
  },
  "language_info": {
   "codemirror_mode": {
    "name": "ipython",
    "version": 3
   },
   "file_extension": ".py",
   "mimetype": "text/x-python",
   "name": "python",
   "nbconvert_exporter": "python",
   "pygments_lexer": "ipython3",
   "version": "3.11.10"
  }
 },
 "nbformat": 4,
 "nbformat_minor": 2
}
